{
 "cells": [
  {
   "cell_type": "code",
   "execution_count": 1,
   "metadata": {},
   "outputs": [],
   "source": [
    "# for auto-reloading external modules\n",
    "# see http://stackoverflow.com/questions/1907993/autoreload-of-modules-in-ipython\n",
    "%load_ext autoreload\n",
    "%autoreload 2\n",
    "\n",
    "import os,sys,inspect\n",
    "currentdir = os.path.dirname(os.path.abspath(inspect.getfile(inspect.currentframe())))\n",
    "parentdir = os.path.dirname(currentdir)\n",
    "sys.path.insert(0, parentdir)"
   ]
  },
  {
   "cell_type": "code",
   "execution_count": 2,
   "metadata": {},
   "outputs": [
    {
     "name": "stdout",
     "output_type": "stream",
     "text": [
      "Sun Apr 21 06:22:09 2019       \n",
      "+-----------------------------------------------------------------------------+\n",
      "| NVIDIA-SMI 418.56       Driver Version: 418.56       CUDA Version: 10.1     |\n",
      "|-------------------------------+----------------------+----------------------+\n",
      "| GPU  Name        Persistence-M| Bus-Id        Disp.A | Volatile Uncorr. ECC |\n",
      "| Fan  Temp  Perf  Pwr:Usage/Cap|         Memory-Usage | GPU-Util  Compute M. |\n",
      "|===============================+======================+======================|\n",
      "|   0  GeForce GTX 1080    Off  | 00000000:02:00.0 Off |                  N/A |\n",
      "|  0%   35C    P8     7W / 198W |      2MiB /  8119MiB |      0%      Default |\n",
      "+-------------------------------+----------------------+----------------------+\n",
      "                                                                               \n",
      "+-----------------------------------------------------------------------------+\n",
      "| Processes:                                                       GPU Memory |\n",
      "|  GPU       PID   Type   Process name                             Usage      |\n",
      "|=============================================================================|\n",
      "|  No running processes found                                                 |\n",
      "+-----------------------------------------------------------------------------+\n"
     ]
    }
   ],
   "source": [
    "!nvidia-smi"
   ]
  },
  {
   "cell_type": "code",
   "execution_count": 3,
   "metadata": {},
   "outputs": [],
   "source": [
    "from __future__ import absolute_import, division, print_function, unicode_literals\n",
    "import tensorflow as tf\n",
    "\n",
    "import matplotlib.pyplot as plt\n",
    "from sklearn.model_selection import train_test_split\n",
    "\n",
    "from utils.utils import get_train, convert\n",
    "from utils.preprocess import preprocess_sentence, max_length, tokenize\n",
    "from models.encoder import Encoder\n",
    "from models.decoder import Decoder\n",
    "from models.bahdanauattention import BahdanauAttention\n",
    "\n",
    "\n",
    "import re\n",
    "import numpy as np\n",
    "import os\n",
    "import io\n",
    "import time"
   ]
  },
  {
   "cell_type": "code",
   "execution_count": 4,
   "metadata": {},
   "outputs": [
    {
     "data": {
      "text/plain": [
       "'2.0.0-alpha0'"
      ]
     },
     "execution_count": 4,
     "metadata": {},
     "output_type": "execute_result"
    }
   ],
   "source": [
    "tf.__version__"
   ]
  },
  {
   "cell_type": "code",
   "execution_count": 5,
   "metadata": {},
   "outputs": [
    {
     "name": "stdout",
     "output_type": "stream",
     "text": [
      "CPU times: user 1min 40s, sys: 2.42 s, total: 1min 42s\n",
      "Wall time: 1min 40s\n"
     ]
    }
   ],
   "source": [
    "%%time\n",
    "num_examples = 1000000\n",
    "num_examples = 500000\n",
    "df = get_train()\n",
    "df_train = df[:num_examples].copy()\n",
    "df_train['firstSentence'] = np.vectorize(preprocess_sentence)(df_train['firstSentence'])\n",
    "df_train['secondSentence'] = np.vectorize(preprocess_sentence)(df_train['secondSentence'])\n",
    "df_train.head(10)"
   ]
  },
  {
   "cell_type": "code",
   "execution_count": 6,
   "metadata": {},
   "outputs": [
    {
     "name": "stdout",
     "output_type": "stream",
     "text": [
      "CPU times: user 14.1 s, sys: 52 ms, total: 14.1 s\n",
      "Wall time: 14 s\n"
     ]
    }
   ],
   "source": [
    "%%time\n",
    "input_tensor, inp_tokenizer = tokenize(df_train['firstSentence'].values.tolist())\n",
    "target_tensor, targ_tokenizer = tokenize(df_train['secondSentence'].values.tolist())\n",
    "max_length_targ, max_length_inp = max_length(target_tensor), max_length(input_tensor)\n",
    "input_tensor_train, input_tensor_val, target_tensor_train, target_tensor_val = train_test_split(input_tensor, target_tensor, test_size=0.2)\n",
    "len(input_tensor_train), len(target_tensor_train), len(input_tensor_val), len(target_tensor_val)"
   ]
  },
  {
   "cell_type": "code",
   "execution_count": 7,
   "metadata": {},
   "outputs": [
    {
     "name": "stdout",
     "output_type": "stream",
     "text": [
      "1\t<start>\n",
      "7\ti\n",
      "26\tdon\n",
      "4\t'\n",
      "14\tt\n",
      "137\tbelieve\n",
      "44\tin\n",
      "13\tthat\n",
      "3\t.\n",
      "2\t<end>\n",
      "1\t<start>\n",
      "7\ti\n",
      "359\tknew\n",
      "5\tyou\n",
      "88\twould\n",
      "3\t.\n",
      "2\t<end>\n"
     ]
    }
   ],
   "source": [
    "convert(inp_tokenizer, input_tensor_train[5])\n",
    "convert(targ_tokenizer, target_tensor_train[4])"
   ]
  },
  {
   "cell_type": "code",
   "execution_count": 8,
   "metadata": {},
   "outputs": [
    {
     "data": {
      "text/plain": [
       "(TensorShape([64, 51]), TensorShape([64, 49]))"
      ]
     },
     "execution_count": 8,
     "metadata": {},
     "output_type": "execute_result"
    }
   ],
   "source": [
    "BUFFER_SIZE = len(input_tensor_train)\n",
    "BATCH_SIZE = 64\n",
    "steps_per_epoch = len(input_tensor_train)//BATCH_SIZE\n",
    "embedding_dim = 256\n",
    "units = 1024\n",
    "vocab_inp_size = len(inp_tokenizer.word_index)+1\n",
    "vocab_tar_size = len(targ_tokenizer.word_index)+1\n",
    "\n",
    "dataset = tf.data.Dataset.from_tensor_slices((input_tensor_train, target_tensor_train)).shuffle(BUFFER_SIZE)\n",
    "dataset = dataset.batch(BATCH_SIZE, drop_remainder=True)\n",
    "example_input_batch, example_target_batch = next(iter(dataset))\n",
    "example_input_batch.shape, example_target_batch.shape"
   ]
  },
  {
   "cell_type": "code",
   "execution_count": 9,
   "metadata": {},
   "outputs": [],
   "source": [
    "def loss_function(real, pred):\n",
    "    mask = tf.math.logical_not(tf.math.equal(real, 0))\n",
    "    loss_ = loss_object(real, pred)\n",
    "\n",
    "    mask = tf.cast(mask, dtype=loss_.dtype)\n",
    "    loss_ *= mask\n",
    "\n",
    "    return tf.reduce_mean(loss_)"
   ]
  },
  {
   "cell_type": "code",
   "execution_count": 10,
   "metadata": {},
   "outputs": [],
   "source": [
    "@tf.function\n",
    "def train_step(inp, targ, enc_hidden):\n",
    "    loss = 0\n",
    "\n",
    "    with tf.GradientTape() as tape:\n",
    "        enc_output, enc_hidden = encoder(inp, enc_hidden)\n",
    "\n",
    "        dec_hidden = enc_hidden\n",
    "\n",
    "        dec_input = tf.expand_dims([targ_tokenizer.word_index['<start>']] *\n",
    "                                   BATCH_SIZE, 1)\n",
    "\n",
    "        # Teacher forcing - feeding the target as the next input\n",
    "        for t in range(1, targ.shape[1]):\n",
    "            # passing enc_output to the decoder\n",
    "            predictions, dec_hidden, _ = decoder(dec_input, dec_hidden,\n",
    "                                                 enc_output)\n",
    "\n",
    "            loss += loss_function(targ[:, t], predictions)\n",
    "\n",
    "            # using teacher forcing\n",
    "            dec_input = tf.expand_dims(targ[:, t], 1)\n",
    "\n",
    "    batch_loss = (loss / int(targ.shape[1]))\n",
    "\n",
    "    variables = encoder.trainable_variables + decoder.trainable_variables\n",
    "\n",
    "    gradients = tape.gradient(loss, variables)\n",
    "\n",
    "    optimizer.apply_gradients(zip(gradients, variables))\n",
    "\n",
    "    return batch_loss"
   ]
  },
  {
   "cell_type": "code",
   "execution_count": 11,
   "metadata": {},
   "outputs": [],
   "source": [
    "optimizer = tf.keras.optimizers.Adam()\n",
    "loss_object = tf.keras.losses.SparseCategoricalCrossentropy(from_logits=True, reduction='none')"
   ]
  },
  {
   "cell_type": "code",
   "execution_count": 12,
   "metadata": {},
   "outputs": [
    {
     "name": "stdout",
     "output_type": "stream",
     "text": [
      "Encoder output shape: (batch size, sequence length, units) (64, 51, 1024)\n",
      "Encoder Hidden state shape: (batch size, units) (64, 1024)\n",
      "Attention result shape: (batch size, units) (64, 1024)\n",
      "Attention weights shape: (batch_size, sequence_length, 1) (64, 51, 1)\n",
      "Decoder output shape: (batch_size, vocab size) (64, 20101)\n"
     ]
    }
   ],
   "source": [
    "encoder = Encoder(vocab_inp_size, embedding_dim, units, BATCH_SIZE)\n",
    "\n",
    "# sample input\n",
    "sample_hidden = encoder.initialize_hidden_state()\n",
    "sample_output, sample_hidden = encoder(example_input_batch, sample_hidden)\n",
    "print ('Encoder output shape: (batch size, sequence length, units) {}'.format(sample_output.shape))\n",
    "print ('Encoder Hidden state shape: (batch size, units) {}'.format(sample_hidden.shape))\n",
    "attention_layer = BahdanauAttention(10)\n",
    "attention_result, attention_weights = attention_layer(sample_hidden, sample_output)\n",
    "\n",
    "print(\"Attention result shape: (batch size, units) {}\".format(attention_result.shape))\n",
    "print(\"Attention weights shape: (batch_size, sequence_length, 1) {}\".format(attention_weights.shape))\n",
    "decoder = Decoder(vocab_tar_size, embedding_dim, units, BATCH_SIZE)\n",
    "\n",
    "sample_decoder_output, _, _ = decoder(tf.random.uniform((64, 1)),\n",
    "                                      sample_hidden, sample_output)\n",
    "\n",
    "print ('Decoder output shape: (batch_size, vocab size) {}'.format(sample_decoder_output.shape))"
   ]
  },
  {
   "cell_type": "code",
   "execution_count": 13,
   "metadata": {},
   "outputs": [],
   "source": [
    "checkpoint_dir = './training_checkpoints'\n",
    "checkpoint_prefix = os.path.join(checkpoint_dir, \"ckpt\")\n",
    "checkpoint = tf.train.Checkpoint(optimizer=optimizer, encoder=encoder, decoder=decoder)"
   ]
  },
  {
   "cell_type": "code",
   "execution_count": 14,
   "metadata": {},
   "outputs": [
    {
     "name": "stdout",
     "output_type": "stream",
     "text": [
      "Epoch 1 Batch 0 Loss 1.3333\n",
      "Epoch 1 Batch 100 Loss 0.5399\n",
      "Epoch 1 Batch 200 Loss 0.5789\n",
      "Epoch 1 Batch 300 Loss 0.4672\n",
      "Epoch 1 Batch 400 Loss 0.4240\n",
      "Epoch 1 Batch 500 Loss 0.3996\n",
      "Epoch 1 Batch 600 Loss 0.3728\n",
      "Epoch 1 Batch 700 Loss 0.3415\n",
      "Epoch 1 Batch 800 Loss 0.3694\n",
      "Epoch 1 Batch 900 Loss 0.3326\n",
      "Epoch 1 Batch 1000 Loss 0.3275\n",
      "Epoch 1 Batch 1100 Loss 0.3062\n",
      "Epoch 1 Batch 1200 Loss 0.3451\n",
      "Epoch 1 Batch 1300 Loss 0.2661\n",
      "Epoch 1 Batch 1400 Loss 0.2446\n",
      "Epoch 1 Batch 1500 Loss 0.2659\n",
      "Epoch 1 Batch 1600 Loss 0.2793\n",
      "Epoch 1 Batch 1700 Loss 0.1989\n",
      "Epoch 1 Batch 1800 Loss 0.2424\n",
      "Epoch 1 Batch 1900 Loss 0.2191\n",
      "Epoch 1 Batch 2000 Loss 0.1959\n",
      "Epoch 1 Batch 2100 Loss 0.2263\n",
      "Epoch 1 Batch 2200 Loss 0.2051\n",
      "Epoch 1 Batch 2300 Loss 0.1979\n",
      "Epoch 1 Batch 2400 Loss 0.1890\n",
      "Epoch 1 Batch 2500 Loss 0.2489\n",
      "Epoch 1 Batch 2600 Loss 0.2277\n",
      "Epoch 1 Batch 2700 Loss 0.2684\n",
      "Epoch 1 Batch 2800 Loss 0.1979\n",
      "Epoch 1 Batch 2900 Loss 0.1755\n",
      "Epoch 1 Batch 3000 Loss 0.1928\n",
      "Epoch 1 Batch 3100 Loss 0.2159\n",
      "Epoch 1 Batch 3200 Loss 0.2155\n",
      "Epoch 1 Batch 3300 Loss 0.2629\n",
      "Epoch 1 Batch 3400 Loss 0.2193\n",
      "Epoch 1 Batch 3500 Loss 0.2206\n",
      "Epoch 1 Batch 3600 Loss 0.1606\n",
      "Epoch 1 Batch 3700 Loss 0.1911\n",
      "Epoch 1 Batch 3800 Loss 0.2368\n",
      "Epoch 1 Batch 3900 Loss 0.1929\n",
      "Epoch 1 Batch 4000 Loss 0.1654\n",
      "Epoch 1 Batch 4100 Loss 0.1751\n",
      "Epoch 1 Batch 4200 Loss 0.1728\n",
      "Epoch 1 Batch 4300 Loss 0.2043\n",
      "Epoch 1 Batch 4400 Loss 0.1840\n",
      "Epoch 1 Batch 4500 Loss 0.1945\n",
      "Epoch 1 Batch 4600 Loss 0.1765\n",
      "Epoch 1 Batch 4700 Loss 0.1596\n",
      "Epoch 1 Batch 4800 Loss 0.1484\n",
      "Epoch 1 Batch 4900 Loss 0.1603\n",
      "Epoch 1 Batch 5000 Loss 0.1841\n",
      "Epoch 1 Batch 5100 Loss 0.1573\n",
      "Epoch 1 Batch 5200 Loss 0.1922\n",
      "Epoch 1 Batch 5300 Loss 0.1995\n",
      "Epoch 1 Batch 5400 Loss 0.1417\n",
      "Epoch 1 Batch 5500 Loss 0.1818\n",
      "Epoch 1 Batch 5600 Loss 0.1502\n",
      "Epoch 1 Batch 5700 Loss 0.1656\n",
      "Epoch 1 Batch 5800 Loss 0.1519\n",
      "Epoch 1 Batch 5900 Loss 0.1833\n",
      "Epoch 1 Batch 6000 Loss 0.1520\n",
      "Epoch 1 Batch 6100 Loss 0.1718\n",
      "Epoch 1 Batch 6200 Loss 0.1666\n",
      "Epoch 1 Loss 0.2441\n",
      "Time taken for 1 epoch 3689.3627529144287 sec\n",
      "\n",
      "Epoch 2 Batch 0 Loss 0.1501\n",
      "Epoch 2 Batch 100 Loss 0.1659\n",
      "Epoch 2 Batch 200 Loss 0.1930\n",
      "Epoch 2 Batch 300 Loss 0.1570\n",
      "Epoch 2 Batch 400 Loss 0.1619\n",
      "Epoch 2 Batch 500 Loss 0.1518\n",
      "Epoch 2 Batch 600 Loss 0.1712\n",
      "Epoch 2 Batch 700 Loss 0.1589\n",
      "Epoch 2 Batch 800 Loss 0.1723\n",
      "Epoch 2 Batch 900 Loss 0.1790\n",
      "Epoch 2 Batch 1000 Loss 0.1621\n",
      "Epoch 2 Batch 1100 Loss 0.1690\n",
      "Epoch 2 Batch 1200 Loss 0.2020\n",
      "Epoch 2 Batch 1300 Loss 0.1451\n",
      "Epoch 2 Batch 1400 Loss 0.1529\n",
      "Epoch 2 Batch 1500 Loss 0.1662\n",
      "Epoch 2 Batch 1600 Loss 0.1788\n",
      "Epoch 2 Batch 1700 Loss 0.1238\n",
      "Epoch 2 Batch 1800 Loss 0.1505\n",
      "Epoch 2 Batch 1900 Loss 0.1479\n",
      "Epoch 2 Batch 2000 Loss 0.1186\n",
      "Epoch 2 Batch 2100 Loss 0.1478\n",
      "Epoch 2 Batch 2200 Loss 0.1469\n",
      "Epoch 2 Batch 2300 Loss 0.1345\n",
      "Epoch 2 Batch 2400 Loss 0.1324\n",
      "Epoch 2 Batch 2500 Loss 0.1684\n",
      "Epoch 2 Batch 2600 Loss 0.1578\n",
      "Epoch 2 Batch 2700 Loss 0.1999\n",
      "Epoch 2 Batch 2800 Loss 0.1331\n",
      "Epoch 2 Batch 2900 Loss 0.1259\n",
      "Epoch 2 Batch 3000 Loss 0.1468\n",
      "Epoch 2 Batch 3100 Loss 0.1657\n",
      "Epoch 2 Batch 3200 Loss 0.1589\n",
      "Epoch 2 Batch 3300 Loss 0.1997\n",
      "Epoch 2 Batch 3400 Loss 0.1578\n",
      "Epoch 2 Batch 3500 Loss 0.1702\n",
      "Epoch 2 Batch 3600 Loss 0.1152\n",
      "Epoch 2 Batch 3700 Loss 0.1431\n",
      "Epoch 2 Batch 3800 Loss 0.1854\n",
      "Epoch 2 Batch 3900 Loss 0.1525\n",
      "Epoch 2 Batch 4000 Loss 0.1256\n",
      "Epoch 2 Batch 4100 Loss 0.1291\n",
      "Epoch 2 Batch 4200 Loss 0.1247\n",
      "Epoch 2 Batch 4300 Loss 0.1626\n",
      "Epoch 2 Batch 4400 Loss 0.1320\n",
      "Epoch 2 Batch 4500 Loss 0.1489\n",
      "Epoch 2 Batch 4600 Loss 0.1310\n",
      "Epoch 2 Batch 4700 Loss 0.1255\n",
      "Epoch 2 Batch 4800 Loss 0.1190\n",
      "Epoch 2 Batch 4900 Loss 0.1375\n",
      "Epoch 2 Batch 5000 Loss 0.1537\n",
      "Epoch 2 Batch 5100 Loss 0.1212\n",
      "Epoch 2 Batch 5200 Loss 0.1575\n",
      "Epoch 2 Batch 5300 Loss 0.1571\n",
      "Epoch 2 Batch 5400 Loss 0.1228\n",
      "Epoch 2 Batch 5500 Loss 0.1428\n",
      "Epoch 2 Batch 5600 Loss 0.1208\n",
      "Epoch 2 Batch 5700 Loss 0.1299\n",
      "Epoch 2 Batch 5800 Loss 0.1203\n",
      "Epoch 2 Batch 5900 Loss 0.1496\n",
      "Epoch 2 Batch 6000 Loss 0.1195\n",
      "Epoch 2 Batch 6100 Loss 0.1376\n",
      "Epoch 2 Batch 6200 Loss 0.1329\n",
      "Epoch 2 Loss 0.1505\n",
      "Time taken for 1 epoch 3672.381738424301 sec\n",
      "\n",
      "Epoch 3 Batch 0 Loss 0.1294\n",
      "Epoch 3 Batch 100 Loss 0.1378\n",
      "Epoch 3 Batch 200 Loss 0.1473\n",
      "Epoch 3 Batch 300 Loss 0.1293\n",
      "Epoch 3 Batch 400 Loss 0.1335\n",
      "Epoch 3 Batch 500 Loss 0.1276\n",
      "Epoch 3 Batch 600 Loss 0.1391\n",
      "Epoch 3 Batch 700 Loss 0.1207\n",
      "Epoch 3 Batch 800 Loss 0.1480\n",
      "Epoch 3 Batch 900 Loss 0.1458\n",
      "Epoch 3 Batch 1000 Loss 0.1402\n",
      "Epoch 3 Batch 1100 Loss 0.1463\n",
      "Epoch 3 Batch 1200 Loss 0.1633\n",
      "Epoch 3 Batch 1300 Loss 0.1210\n",
      "Epoch 3 Batch 1400 Loss 0.1302\n",
      "Epoch 3 Batch 1500 Loss 0.1349\n",
      "Epoch 3 Batch 1600 Loss 0.1547\n",
      "Epoch 3 Batch 1700 Loss 0.1029\n",
      "Epoch 3 Batch 1800 Loss 0.1239\n",
      "Epoch 3 Batch 1900 Loss 0.1192\n",
      "Epoch 3 Batch 2000 Loss 0.0993\n",
      "Epoch 3 Batch 2100 Loss 0.1218\n",
      "Epoch 3 Batch 2200 Loss 0.1235\n",
      "Epoch 3 Batch 2300 Loss 0.1180\n",
      "Epoch 3 Batch 2400 Loss 0.1147\n",
      "Epoch 3 Batch 2500 Loss 0.1370\n",
      "Epoch 3 Batch 2600 Loss 0.1290\n",
      "Epoch 3 Batch 2700 Loss 0.1524\n",
      "Epoch 3 Batch 2800 Loss 0.1126\n",
      "Epoch 3 Batch 2900 Loss 0.1170\n",
      "Epoch 3 Batch 3000 Loss 0.1310\n",
      "Epoch 3 Batch 3100 Loss 0.1490\n",
      "Epoch 3 Batch 3200 Loss 0.1353\n",
      "Epoch 3 Batch 3300 Loss 0.1694\n",
      "Epoch 3 Batch 3400 Loss 0.1345\n",
      "Epoch 3 Batch 3500 Loss 0.1441\n",
      "Epoch 3 Batch 3600 Loss 0.1000\n",
      "Epoch 3 Batch 3700 Loss 0.1258\n",
      "Epoch 3 Batch 3800 Loss 0.1533\n",
      "Epoch 3 Batch 3900 Loss 0.1346\n",
      "Epoch 3 Batch 4000 Loss 0.1051\n",
      "Epoch 3 Batch 4100 Loss 0.1041\n",
      "Epoch 3 Batch 4200 Loss 0.1073\n",
      "Epoch 3 Batch 4300 Loss 0.1440\n",
      "Epoch 3 Batch 4400 Loss 0.1129\n",
      "Epoch 3 Batch 4500 Loss 0.1258\n",
      "Epoch 3 Batch 4600 Loss 0.1118\n",
      "Epoch 3 Batch 4700 Loss 0.1083\n",
      "Epoch 3 Batch 4800 Loss 0.1076\n",
      "Epoch 3 Batch 4900 Loss 0.1226\n",
      "Epoch 3 Batch 5000 Loss 0.1354\n",
      "Epoch 3 Batch 5100 Loss 0.1121\n",
      "Epoch 3 Batch 5200 Loss 0.1361\n",
      "Epoch 3 Batch 5300 Loss 0.1338\n",
      "Epoch 3 Batch 5400 Loss 0.1109\n",
      "Epoch 3 Batch 5500 Loss 0.1303\n",
      "Epoch 3 Batch 5600 Loss 0.1061\n",
      "Epoch 3 Batch 5700 Loss 0.1197\n",
      "Epoch 3 Batch 5800 Loss 0.1057\n",
      "Epoch 3 Batch 5900 Loss 0.1340\n",
      "Epoch 3 Batch 6000 Loss 0.1032\n",
      "Epoch 3 Batch 6100 Loss 0.1262\n",
      "Epoch 3 Batch 6200 Loss 0.1182\n",
      "Epoch 3 Loss 0.1268\n",
      "Time taken for 1 epoch 3700.0200242996216 sec\n",
      "\n",
      "Epoch 4 Batch 0 Loss 0.1116\n",
      "Epoch 4 Batch 100 Loss 0.1122\n",
      "Epoch 4 Batch 200 Loss 0.1276\n",
      "Epoch 4 Batch 300 Loss 0.1151\n",
      "Epoch 4 Batch 400 Loss 0.1214\n",
      "Epoch 4 Batch 500 Loss 0.1162\n",
      "Epoch 4 Batch 600 Loss 0.1148\n",
      "Epoch 4 Batch 700 Loss 0.1021\n",
      "Epoch 4 Batch 800 Loss 0.1292\n",
      "Epoch 4 Batch 900 Loss 0.1298\n",
      "Epoch 4 Batch 1000 Loss 0.1237\n",
      "Epoch 4 Batch 1100 Loss 0.1284\n",
      "Epoch 4 Batch 1200 Loss 0.1362\n",
      "Epoch 4 Batch 1300 Loss 0.1079\n",
      "Epoch 4 Batch 1400 Loss 0.1143\n",
      "Epoch 4 Batch 1500 Loss 0.1136\n",
      "Epoch 4 Batch 1600 Loss 0.1364\n",
      "Epoch 4 Batch 1700 Loss 0.0918\n",
      "Epoch 4 Batch 1800 Loss 0.1122\n",
      "Epoch 4 Batch 1900 Loss 0.1053\n",
      "Epoch 4 Batch 2000 Loss 0.0872\n",
      "Epoch 4 Batch 2100 Loss 0.1074\n",
      "Epoch 4 Batch 2200 Loss 0.1116\n",
      "Epoch 4 Batch 2300 Loss 0.1093\n",
      "Epoch 4 Batch 2400 Loss 0.1077\n",
      "Epoch 4 Batch 2500 Loss 0.1215\n",
      "Epoch 4 Batch 2600 Loss 0.1159\n",
      "Epoch 4 Batch 2700 Loss 0.1258\n",
      "Epoch 4 Batch 2800 Loss 0.1038\n",
      "Epoch 4 Batch 2900 Loss 0.1058\n",
      "Epoch 4 Batch 3000 Loss 0.1191\n",
      "Epoch 4 Batch 3100 Loss 0.1367\n",
      "Epoch 4 Batch 3200 Loss 0.1148\n",
      "Epoch 4 Batch 3300 Loss 0.1501\n",
      "Epoch 4 Batch 3400 Loss 0.1241\n",
      "Epoch 4 Batch 3500 Loss 0.1313\n",
      "Epoch 4 Batch 3600 Loss 0.0926\n",
      "Epoch 4 Batch 3700 Loss 0.1165\n",
      "Epoch 4 Batch 3800 Loss 0.1352\n",
      "Epoch 4 Batch 3900 Loss 0.1228\n",
      "Epoch 4 Batch 4000 Loss 0.0988\n",
      "Epoch 4 Batch 4100 Loss 0.0927\n",
      "Epoch 4 Batch 4200 Loss 0.1000\n",
      "Epoch 4 Batch 4300 Loss 0.1302\n",
      "Epoch 4 Batch 4400 Loss 0.0997\n",
      "Epoch 4 Batch 4500 Loss 0.1192\n",
      "Epoch 4 Batch 4600 Loss 0.1008\n",
      "Epoch 4 Batch 4700 Loss 0.1046\n",
      "Epoch 4 Batch 4800 Loss 0.1006\n",
      "Epoch 4 Batch 4900 Loss 0.1082\n",
      "Epoch 4 Batch 5000 Loss 0.1254\n",
      "Epoch 4 Batch 5100 Loss 0.1048\n",
      "Epoch 4 Batch 5200 Loss 0.1298\n",
      "Epoch 4 Batch 5300 Loss 0.1156\n",
      "Epoch 4 Batch 5400 Loss 0.1047\n",
      "Epoch 4 Batch 5500 Loss 0.1123\n",
      "Epoch 4 Batch 5600 Loss 0.0961\n",
      "Epoch 4 Batch 5700 Loss 0.1050\n",
      "Epoch 4 Batch 5800 Loss 0.0951\n",
      "Epoch 4 Batch 5900 Loss 0.1258\n",
      "Epoch 4 Batch 6000 Loss 0.0987\n",
      "Epoch 4 Batch 6100 Loss 0.1186\n",
      "Epoch 4 Batch 6200 Loss 0.1032\n",
      "Epoch 4 Loss 0.1129\n",
      "Time taken for 1 epoch 3673.1268260478973 sec\n",
      "\n",
      "Epoch 5 Batch 0 Loss 0.1037\n",
      "Epoch 5 Batch 100 Loss 0.0992\n",
      "Epoch 5 Batch 200 Loss 0.1116\n",
      "Epoch 5 Batch 300 Loss 0.1054\n",
      "Epoch 5 Batch 400 Loss 0.1127\n",
      "Epoch 5 Batch 500 Loss 0.1067\n",
      "Epoch 5 Batch 600 Loss 0.1065\n",
      "Epoch 5 Batch 700 Loss 0.0907\n",
      "Epoch 5 Batch 800 Loss 0.1215\n",
      "Epoch 5 Batch 900 Loss 0.1160\n",
      "Epoch 5 Batch 1000 Loss 0.1190\n",
      "Epoch 5 Batch 1100 Loss 0.1192\n",
      "Epoch 5 Batch 1200 Loss 0.1211\n",
      "Epoch 5 Batch 1300 Loss 0.0988\n",
      "Epoch 5 Batch 1400 Loss 0.1065\n",
      "Epoch 5 Batch 1500 Loss 0.1049\n",
      "Epoch 5 Batch 1600 Loss 0.1241\n",
      "Epoch 5 Batch 1700 Loss 0.0868\n",
      "Epoch 5 Batch 1800 Loss 0.1007\n",
      "Epoch 5 Batch 1900 Loss 0.0964\n",
      "Epoch 5 Batch 2000 Loss 0.0785\n",
      "Epoch 5 Batch 2100 Loss 0.0991\n",
      "Epoch 5 Batch 2200 Loss 0.1028\n",
      "Epoch 5 Batch 2300 Loss 0.0975\n",
      "Epoch 5 Batch 2400 Loss 0.0954\n",
      "Epoch 5 Batch 2500 Loss 0.1168\n",
      "Epoch 5 Batch 2600 Loss 0.0967\n",
      "Epoch 5 Batch 2700 Loss 0.1126\n",
      "Epoch 5 Batch 2800 Loss 0.0954\n",
      "Epoch 5 Batch 2900 Loss 0.1011\n",
      "Epoch 5 Batch 3000 Loss 0.1102\n",
      "Epoch 5 Batch 3100 Loss 0.1252\n",
      "Epoch 5 Batch 3200 Loss 0.1022\n",
      "Epoch 5 Batch 3300 Loss 0.1499\n",
      "Epoch 5 Batch 3400 Loss 0.1177\n",
      "Epoch 5 Batch 3500 Loss 0.1230\n",
      "Epoch 5 Batch 3600 Loss 0.0834\n",
      "Epoch 5 Batch 3700 Loss 0.1115\n",
      "Epoch 5 Batch 3800 Loss 0.1336\n",
      "Epoch 5 Batch 3900 Loss 0.1184\n",
      "Epoch 5 Batch 4000 Loss 0.0899\n",
      "Epoch 5 Batch 4100 Loss 0.0810\n",
      "Epoch 5 Batch 4200 Loss 0.0924\n",
      "Epoch 5 Batch 4300 Loss 0.1163\n",
      "Epoch 5 Batch 4400 Loss 0.0981\n",
      "Epoch 5 Batch 4500 Loss 0.1089\n",
      "Epoch 5 Batch 4600 Loss 0.0933\n",
      "Epoch 5 Batch 4700 Loss 0.0969\n",
      "Epoch 5 Batch 4800 Loss 0.0975\n",
      "Epoch 5 Batch 4900 Loss 0.1096\n",
      "Epoch 5 Batch 5000 Loss 0.1190\n",
      "Epoch 5 Batch 5100 Loss 0.0977\n",
      "Epoch 5 Batch 5200 Loss 0.1223\n",
      "Epoch 5 Batch 5300 Loss 0.1045\n",
      "Epoch 5 Batch 5400 Loss 0.1015\n",
      "Epoch 5 Batch 5500 Loss 0.1052\n",
      "Epoch 5 Batch 5600 Loss 0.0915\n",
      "Epoch 5 Batch 5700 Loss 0.0967\n",
      "Epoch 5 Batch 5800 Loss 0.0916\n",
      "Epoch 5 Batch 5900 Loss 0.1168\n",
      "Epoch 5 Batch 6000 Loss 0.0962\n",
      "Epoch 5 Batch 6100 Loss 0.1103\n",
      "Epoch 5 Batch 6200 Loss 0.0963\n",
      "Epoch 5 Loss 0.1043\n",
      "Time taken for 1 epoch 3698.964817762375 sec\n",
      "\n",
      "Epoch 6 Batch 0 Loss 0.1009\n",
      "Epoch 6 Batch 100 Loss 0.0929\n",
      "Epoch 6 Batch 200 Loss 0.1106\n",
      "Epoch 6 Batch 300 Loss 0.0976\n",
      "Epoch 6 Batch 400 Loss 0.1094\n",
      "Epoch 6 Batch 500 Loss 0.0964\n",
      "Epoch 6 Batch 600 Loss 0.0952\n",
      "Epoch 6 Batch 700 Loss 0.0879\n",
      "Epoch 6 Batch 800 Loss 0.1121\n",
      "Epoch 6 Batch 900 Loss 0.1065\n",
      "Epoch 6 Batch 1000 Loss 0.1110\n",
      "Epoch 6 Batch 1100 Loss 0.1180\n",
      "Epoch 6 Batch 1200 Loss 0.1126\n",
      "Epoch 6 Batch 1300 Loss 0.0880\n",
      "Epoch 6 Batch 1400 Loss 0.1003\n",
      "Epoch 6 Batch 1500 Loss 0.0961\n",
      "Epoch 6 Batch 1600 Loss 0.1169\n",
      "Epoch 6 Batch 1700 Loss 0.0781\n",
      "Epoch 6 Batch 1800 Loss 0.0931\n",
      "Epoch 6 Batch 1900 Loss 0.0891\n",
      "Epoch 6 Batch 2000 Loss 0.0753\n",
      "Epoch 6 Batch 2100 Loss 0.0917\n",
      "Epoch 6 Batch 2200 Loss 0.0995\n",
      "Epoch 6 Batch 2300 Loss 0.0977\n",
      "Epoch 6 Batch 2400 Loss 0.0925\n",
      "Epoch 6 Batch 2500 Loss 0.1084\n",
      "Epoch 6 Batch 2600 Loss 0.0930\n",
      "Epoch 6 Batch 2700 Loss 0.1019\n",
      "Epoch 6 Batch 2800 Loss 0.0917\n",
      "Epoch 6 Batch 2900 Loss 0.0984\n",
      "Epoch 6 Batch 3000 Loss 0.1045\n",
      "Epoch 6 Batch 3100 Loss 0.1191\n",
      "Epoch 6 Batch 3200 Loss 0.0933\n",
      "Epoch 6 Batch 3300 Loss 0.1387\n",
      "Epoch 6 Batch 3400 Loss 0.1068\n",
      "Epoch 6 Batch 3500 Loss 0.1132\n",
      "Epoch 6 Batch 3600 Loss 0.0839\n",
      "Epoch 6 Batch 3700 Loss 0.0947\n",
      "Epoch 6 Batch 3800 Loss 0.1186\n",
      "Epoch 6 Batch 3900 Loss 0.1111\n",
      "Epoch 6 Batch 4000 Loss 0.0864\n",
      "Epoch 6 Batch 4100 Loss 0.0855\n",
      "Epoch 6 Batch 4200 Loss 0.0905\n",
      "Epoch 6 Batch 4300 Loss 0.1123\n",
      "Epoch 6 Batch 4400 Loss 0.0907\n",
      "Epoch 6 Batch 4500 Loss 0.1051\n",
      "Epoch 6 Batch 4600 Loss 0.0942\n",
      "Epoch 6 Batch 4700 Loss 0.0862\n",
      "Epoch 6 Batch 4800 Loss 0.0949\n",
      "Epoch 6 Batch 4900 Loss 0.1018\n",
      "Epoch 6 Batch 5000 Loss 0.1146\n",
      "Epoch 6 Batch 5100 Loss 0.0987\n",
      "Epoch 6 Batch 5200 Loss 0.1163\n",
      "Epoch 6 Batch 5300 Loss 0.0978\n",
      "Epoch 6 Batch 5400 Loss 0.0962\n",
      "Epoch 6 Batch 5500 Loss 0.1014\n",
      "Epoch 6 Batch 5600 Loss 0.0871\n",
      "Epoch 6 Batch 5700 Loss 0.0897\n",
      "Epoch 6 Batch 5800 Loss 0.0888\n",
      "Epoch 6 Batch 5900 Loss 0.1127\n",
      "Epoch 6 Batch 6000 Loss 0.0879\n",
      "Epoch 6 Batch 6100 Loss 0.1093\n",
      "Epoch 6 Batch 6200 Loss 0.0880\n",
      "Epoch 6 Loss 0.0983\n",
      "Time taken for 1 epoch 3699.8066256046295 sec\n",
      "\n",
      "Epoch 7 Batch 0 Loss 0.0952\n",
      "Epoch 7 Batch 100 Loss 0.0793\n",
      "Epoch 7 Batch 200 Loss 0.0997\n",
      "Epoch 7 Batch 300 Loss 0.0904\n",
      "Epoch 7 Batch 400 Loss 0.1105\n",
      "Epoch 7 Batch 500 Loss 0.0908\n",
      "Epoch 7 Batch 600 Loss 0.0961\n",
      "Epoch 7 Batch 700 Loss 0.0837\n",
      "Epoch 7 Batch 800 Loss 0.1076\n",
      "Epoch 7 Batch 900 Loss 0.1022\n",
      "Epoch 7 Batch 1000 Loss 0.1102\n",
      "Epoch 7 Batch 1100 Loss 0.1086\n",
      "Epoch 7 Batch 1200 Loss 0.1066\n",
      "Epoch 7 Batch 1300 Loss 0.0838\n",
      "Epoch 7 Batch 1400 Loss 0.0960\n",
      "Epoch 7 Batch 1500 Loss 0.0864\n",
      "Epoch 7 Batch 1600 Loss 0.1204\n",
      "Epoch 7 Batch 1700 Loss 0.0795\n",
      "Epoch 7 Batch 1800 Loss 0.0905\n",
      "Epoch 7 Batch 1900 Loss 0.0852\n",
      "Epoch 7 Batch 2000 Loss 0.0692\n",
      "Epoch 7 Batch 2100 Loss 0.0869\n",
      "Epoch 7 Batch 2200 Loss 0.0921\n",
      "Epoch 7 Batch 2300 Loss 0.0888\n",
      "Epoch 7 Batch 2400 Loss 0.0941\n",
      "Epoch 7 Batch 2500 Loss 0.1110\n",
      "Epoch 7 Batch 2600 Loss 0.0918\n",
      "Epoch 7 Batch 2700 Loss 0.0993\n",
      "Epoch 7 Batch 2800 Loss 0.0871\n",
      "Epoch 7 Batch 2900 Loss 0.0931\n",
      "Epoch 7 Batch 3000 Loss 0.1044\n",
      "Epoch 7 Batch 3100 Loss 0.1113\n",
      "Epoch 7 Batch 3200 Loss 0.0872\n",
      "Epoch 7 Batch 3300 Loss 0.1358\n",
      "Epoch 7 Batch 3400 Loss 0.1005\n",
      "Epoch 7 Batch 3500 Loss 0.1051\n",
      "Epoch 7 Batch 3600 Loss 0.0780\n",
      "Epoch 7 Batch 3700 Loss 0.1016\n",
      "Epoch 7 Batch 3800 Loss 0.1204\n",
      "Epoch 7 Batch 3900 Loss 0.1057\n",
      "Epoch 7 Batch 4000 Loss 0.0814\n",
      "Epoch 7 Batch 4100 Loss 0.0787\n",
      "Epoch 7 Batch 4200 Loss 0.0847\n",
      "Epoch 7 Batch 4300 Loss 0.1055\n",
      "Epoch 7 Batch 4400 Loss 0.0881\n",
      "Epoch 7 Batch 4500 Loss 0.0964\n",
      "Epoch 7 Batch 4600 Loss 0.0880\n",
      "Epoch 7 Batch 4700 Loss 0.0835\n",
      "Epoch 7 Batch 4800 Loss 0.0906\n",
      "Epoch 7 Batch 4900 Loss 0.0949\n",
      "Epoch 7 Batch 5000 Loss 0.1107\n",
      "Epoch 7 Batch 5100 Loss 0.0882\n",
      "Epoch 7 Batch 5200 Loss 0.1105\n",
      "Epoch 7 Batch 5300 Loss 0.0971\n",
      "Epoch 7 Batch 5400 Loss 0.0934\n",
      "Epoch 7 Batch 5500 Loss 0.0981\n",
      "Epoch 7 Batch 5600 Loss 0.0835\n",
      "Epoch 7 Batch 5700 Loss 0.0879\n",
      "Epoch 7 Batch 5800 Loss 0.0837\n",
      "Epoch 7 Batch 5900 Loss 0.1090\n",
      "Epoch 7 Batch 6000 Loss 0.0865\n",
      "Epoch 7 Batch 6100 Loss 0.1008\n",
      "Epoch 7 Batch 6200 Loss 0.0871\n",
      "Epoch 7 Loss 0.0936\n",
      "Time taken for 1 epoch 3674.38663315773 sec\n",
      "\n",
      "Epoch 8 Batch 0 Loss 0.0921\n",
      "Epoch 8 Batch 100 Loss 0.0812\n",
      "Epoch 8 Batch 200 Loss 0.0974\n",
      "Epoch 8 Batch 300 Loss 0.0832\n",
      "Epoch 8 Batch 400 Loss 0.1072\n",
      "Epoch 8 Batch 500 Loss 0.0863\n",
      "Epoch 8 Batch 600 Loss 0.0892\n",
      "Epoch 8 Batch 700 Loss 0.0804\n",
      "Epoch 8 Batch 800 Loss 0.1044\n",
      "Epoch 8 Batch 900 Loss 0.1030\n",
      "Epoch 8 Batch 1000 Loss 0.0991\n",
      "Epoch 8 Batch 1100 Loss 0.1055\n",
      "Epoch 8 Batch 1200 Loss 0.1060\n",
      "Epoch 8 Batch 1300 Loss 0.0827\n",
      "Epoch 8 Batch 1400 Loss 0.0928\n",
      "Epoch 8 Batch 1500 Loss 0.0843\n",
      "Epoch 8 Batch 1600 Loss 0.1154\n",
      "Epoch 8 Batch 1700 Loss 0.0774\n",
      "Epoch 8 Batch 1800 Loss 0.0884\n",
      "Epoch 8 Batch 1900 Loss 0.0873\n",
      "Epoch 8 Batch 2000 Loss 0.0685\n",
      "Epoch 8 Batch 2100 Loss 0.0840\n",
      "Epoch 8 Batch 2200 Loss 0.0919\n",
      "Epoch 8 Batch 2300 Loss 0.0909\n",
      "Epoch 8 Batch 2400 Loss 0.0864\n",
      "Epoch 8 Batch 2500 Loss 0.1042\n",
      "Epoch 8 Batch 2600 Loss 0.0900\n",
      "Epoch 8 Batch 2700 Loss 0.0989\n",
      "Epoch 8 Batch 2800 Loss 0.0835\n",
      "Epoch 8 Batch 2900 Loss 0.0861\n",
      "Epoch 8 Batch 3000 Loss 0.0984\n",
      "Epoch 8 Batch 3100 Loss 0.1065\n",
      "Epoch 8 Batch 3200 Loss 0.0911\n",
      "Epoch 8 Batch 3300 Loss 0.1270\n",
      "Epoch 8 Batch 3400 Loss 0.0988\n",
      "Epoch 8 Batch 3500 Loss 0.1058\n",
      "Epoch 8 Batch 3600 Loss 0.0823\n",
      "Epoch 8 Batch 3700 Loss 0.0925\n",
      "Epoch 8 Batch 3800 Loss 0.1158\n",
      "Epoch 8 Batch 3900 Loss 0.0997\n",
      "Epoch 8 Batch 4000 Loss 0.0777\n",
      "Epoch 8 Batch 4100 Loss 0.0791\n",
      "Epoch 8 Batch 4200 Loss 0.0871\n",
      "Epoch 8 Batch 4300 Loss 0.1021\n",
      "Epoch 8 Batch 4400 Loss 0.0893\n",
      "Epoch 8 Batch 4500 Loss 0.0967\n",
      "Epoch 8 Batch 4600 Loss 0.0837\n",
      "Epoch 8 Batch 4700 Loss 0.0793\n",
      "Epoch 8 Batch 4800 Loss 0.0879\n",
      "Epoch 8 Batch 4900 Loss 0.0987\n",
      "Epoch 8 Batch 5000 Loss 0.1093\n",
      "Epoch 8 Batch 5100 Loss 0.0898\n",
      "Epoch 8 Batch 5200 Loss 0.1073\n",
      "Epoch 8 Batch 5300 Loss 0.0960\n",
      "Epoch 8 Batch 5400 Loss 0.0930\n",
      "Epoch 8 Batch 5500 Loss 0.0968\n",
      "Epoch 8 Batch 5600 Loss 0.0765\n",
      "Epoch 8 Batch 5700 Loss 0.0878\n",
      "Epoch 8 Batch 5800 Loss 0.0784\n",
      "Epoch 8 Batch 5900 Loss 0.1031\n",
      "Epoch 8 Batch 6000 Loss 0.0831\n",
      "Epoch 8 Batch 6100 Loss 0.0923\n",
      "Epoch 8 Batch 6200 Loss 0.0826\n",
      "Epoch 8 Loss 0.0900\n",
      "Time taken for 1 epoch 3686.1047551631927 sec\n",
      "\n",
      "Epoch 9 Batch 0 Loss 0.0907\n",
      "Epoch 9 Batch 100 Loss 0.0789\n",
      "Epoch 9 Batch 200 Loss 0.0967\n",
      "Epoch 9 Batch 300 Loss 0.0840\n",
      "Epoch 9 Batch 400 Loss 0.0997\n",
      "Epoch 9 Batch 500 Loss 0.0828\n",
      "Epoch 9 Batch 600 Loss 0.0855\n",
      "Epoch 9 Batch 700 Loss 0.0783\n",
      "Epoch 9 Batch 800 Loss 0.0941\n",
      "Epoch 9 Batch 900 Loss 0.0989\n",
      "Epoch 9 Batch 1000 Loss 0.0939\n",
      "Epoch 9 Batch 1100 Loss 0.1023\n",
      "Epoch 9 Batch 1200 Loss 0.0965\n",
      "Epoch 9 Batch 1300 Loss 0.0841\n",
      "Epoch 9 Batch 1400 Loss 0.0923\n",
      "Epoch 9 Batch 1500 Loss 0.0805\n",
      "Epoch 9 Batch 1600 Loss 0.1126\n",
      "Epoch 9 Batch 1700 Loss 0.0764\n",
      "Epoch 9 Batch 1800 Loss 0.0844\n",
      "Epoch 9 Batch 1900 Loss 0.0838\n",
      "Epoch 9 Batch 2000 Loss 0.0676\n",
      "Epoch 9 Batch 2100 Loss 0.0812\n",
      "Epoch 9 Batch 2200 Loss 0.0874\n",
      "Epoch 9 Batch 2300 Loss 0.0858\n",
      "Epoch 9 Batch 2400 Loss 0.0864\n",
      "Epoch 9 Batch 2500 Loss 0.0973\n",
      "Epoch 9 Batch 2600 Loss 0.0919\n",
      "Epoch 9 Batch 2700 Loss 0.0946\n",
      "Epoch 9 Batch 2800 Loss 0.0835\n",
      "Epoch 9 Batch 2900 Loss 0.0869\n",
      "Epoch 9 Batch 3000 Loss 0.0922\n",
      "Epoch 9 Batch 3100 Loss 0.1066\n",
      "Epoch 9 Batch 3200 Loss 0.0847\n",
      "Epoch 9 Batch 3300 Loss 0.1256\n",
      "Epoch 9 Batch 3400 Loss 0.0937\n",
      "Epoch 9 Batch 3500 Loss 0.0975\n",
      "Epoch 9 Batch 3600 Loss 0.0768\n",
      "Epoch 9 Batch 3700 Loss 0.0903\n",
      "Epoch 9 Batch 3800 Loss 0.1065\n",
      "Epoch 9 Batch 3900 Loss 0.0961\n",
      "Epoch 9 Batch 4000 Loss 0.0741\n",
      "Epoch 9 Batch 4100 Loss 0.0760\n",
      "Epoch 9 Batch 4200 Loss 0.0803\n",
      "Epoch 9 Batch 4300 Loss 0.0935\n",
      "Epoch 9 Batch 4400 Loss 0.0851\n",
      "Epoch 9 Batch 4500 Loss 0.0891\n",
      "Epoch 9 Batch 4600 Loss 0.0808\n",
      "Epoch 9 Batch 4700 Loss 0.0774\n",
      "Epoch 9 Batch 4800 Loss 0.0836\n",
      "Epoch 9 Batch 4900 Loss 0.0903\n",
      "Epoch 9 Batch 5000 Loss 0.1089\n",
      "Epoch 9 Batch 5100 Loss 0.0858\n",
      "Epoch 9 Batch 5200 Loss 0.1050\n",
      "Epoch 9 Batch 5300 Loss 0.0851\n",
      "Epoch 9 Batch 5400 Loss 0.0928\n",
      "Epoch 9 Batch 5500 Loss 0.0887\n",
      "Epoch 9 Batch 5600 Loss 0.0763\n",
      "Epoch 9 Batch 5700 Loss 0.0880\n",
      "Epoch 9 Batch 5800 Loss 0.0804\n",
      "Epoch 9 Batch 5900 Loss 0.0977\n",
      "Epoch 9 Batch 6000 Loss 0.0772\n",
      "Epoch 9 Batch 6100 Loss 0.0915\n",
      "Epoch 9 Batch 6200 Loss 0.0817\n",
      "Epoch 9 Loss 0.0869\n",
      "Time taken for 1 epoch 3684.515819787979 sec\n",
      "\n",
      "Epoch 10 Batch 0 Loss 0.0805\n",
      "Epoch 10 Batch 100 Loss 0.0736\n",
      "Epoch 10 Batch 200 Loss 0.0879\n",
      "Epoch 10 Batch 300 Loss 0.0762\n",
      "Epoch 10 Batch 400 Loss 0.0961\n",
      "Epoch 10 Batch 500 Loss 0.0756\n",
      "Epoch 10 Batch 600 Loss 0.0838\n",
      "Epoch 10 Batch 700 Loss 0.0812\n",
      "Epoch 10 Batch 800 Loss 0.0952\n",
      "Epoch 10 Batch 900 Loss 0.1044\n",
      "Epoch 10 Batch 1000 Loss 0.0932\n",
      "Epoch 10 Batch 1100 Loss 0.0995\n",
      "Epoch 10 Batch 1200 Loss 0.0979\n",
      "Epoch 10 Batch 1300 Loss 0.0771\n",
      "Epoch 10 Batch 1400 Loss 0.0909\n",
      "Epoch 10 Batch 1500 Loss 0.0782\n",
      "Epoch 10 Batch 1600 Loss 0.1023\n",
      "Epoch 10 Batch 1700 Loss 0.0701\n",
      "Epoch 10 Batch 1800 Loss 0.0805\n",
      "Epoch 10 Batch 1900 Loss 0.0801\n",
      "Epoch 10 Batch 2000 Loss 0.0600\n",
      "Epoch 10 Batch 2100 Loss 0.0779\n",
      "Epoch 10 Batch 2200 Loss 0.0867\n",
      "Epoch 10 Batch 2300 Loss 0.0851\n",
      "Epoch 10 Batch 2400 Loss 0.0847\n",
      "Epoch 10 Batch 2500 Loss 0.1004\n",
      "Epoch 10 Batch 2600 Loss 0.0847\n",
      "Epoch 10 Batch 2700 Loss 0.0876\n",
      "Epoch 10 Batch 2800 Loss 0.0801\n",
      "Epoch 10 Batch 2900 Loss 0.0894\n",
      "Epoch 10 Batch 3000 Loss 0.0958\n",
      "Epoch 10 Batch 3100 Loss 0.0930\n",
      "Epoch 10 Batch 3200 Loss 0.0853\n",
      "Epoch 10 Batch 3300 Loss 0.1140\n",
      "Epoch 10 Batch 3400 Loss 0.0879\n",
      "Epoch 10 Batch 3500 Loss 0.0930\n",
      "Epoch 10 Batch 3600 Loss 0.0770\n",
      "Epoch 10 Batch 3700 Loss 0.0849\n",
      "Epoch 10 Batch 3800 Loss 0.1068\n",
      "Epoch 10 Batch 3900 Loss 0.0964\n",
      "Epoch 10 Batch 4000 Loss 0.0768\n",
      "Epoch 10 Batch 4100 Loss 0.0744\n",
      "Epoch 10 Batch 4200 Loss 0.0842\n",
      "Epoch 10 Batch 4300 Loss 0.0940\n",
      "Epoch 10 Batch 4400 Loss 0.0836\n",
      "Epoch 10 Batch 4500 Loss 0.0870\n",
      "Epoch 10 Batch 4600 Loss 0.0808\n",
      "Epoch 10 Batch 4700 Loss 0.0789\n",
      "Epoch 10 Batch 4800 Loss 0.0809\n",
      "Epoch 10 Batch 4900 Loss 0.0898\n",
      "Epoch 10 Batch 5000 Loss 0.1017\n",
      "Epoch 10 Batch 5100 Loss 0.0839\n",
      "Epoch 10 Batch 5200 Loss 0.0980\n",
      "Epoch 10 Batch 5300 Loss 0.0890\n",
      "Epoch 10 Batch 5400 Loss 0.0884\n",
      "Epoch 10 Batch 5500 Loss 0.0846\n",
      "Epoch 10 Batch 5600 Loss 0.0747\n",
      "Epoch 10 Batch 5700 Loss 0.0799\n",
      "Epoch 10 Batch 5800 Loss 0.0760\n",
      "Epoch 10 Batch 5900 Loss 0.0951\n",
      "Epoch 10 Batch 6000 Loss 0.0777\n",
      "Epoch 10 Batch 6100 Loss 0.0918\n",
      "Epoch 10 Batch 6200 Loss 0.0809\n",
      "Epoch 10 Loss 0.0844\n",
      "Time taken for 1 epoch 3680.808995485306 sec\n",
      "\n"
     ]
    }
   ],
   "source": [
    "EPOCHS = 10\n",
    "for epoch in range(EPOCHS):\n",
    "    start = time.time()\n",
    "\n",
    "    enc_hidden = encoder.initialize_hidden_state()\n",
    "    total_loss = 0\n",
    "\n",
    "    for (batch, (inp, targ)) in enumerate(dataset.take(steps_per_epoch)):\n",
    "        batch_loss = train_step(inp, targ, enc_hidden)\n",
    "        total_loss += batch_loss\n",
    "\n",
    "        if batch % 100 == 0:\n",
    "            print('Epoch {} Batch {} Loss {:.4f}'.format(\n",
    "                epoch + 1, batch, batch_loss.numpy()))\n",
    "    # saving (checkpoint) the model every 2 epochs\n",
    "    if (epoch + 1) % 2 == 0:\n",
    "        checkpoint.save(file_prefix=checkpoint_prefix)\n",
    "\n",
    "    print('Epoch {} Loss {:.4f}'.format(epoch + 1,\n",
    "                                        total_loss / steps_per_epoch))\n",
    "    print('Time taken for 1 epoch {} sec\\n'.format(time.time() - start))"
   ]
  },
  {
   "cell_type": "code",
   "execution_count": 15,
   "metadata": {},
   "outputs": [],
   "source": [
    "def evaluate(sentence):\n",
    "    attention_plot = np.zeros((max_length_targ, max_length_inp))\n",
    "\n",
    "    sentence = preprocess_sentence(sentence)\n",
    "\n",
    "    inputs = [inp_tokenizer.word_index[i] for i in sentence.split(' ')]\n",
    "    inputs = tf.keras.preprocessing.sequence.pad_sequences([inputs],\n",
    "                                                           maxlen=max_length_inp,\n",
    "                                                           padding='post')\n",
    "    inputs = tf.convert_to_tensor(inputs)\n",
    "\n",
    "    result = ''\n",
    "\n",
    "    hidden = [tf.zeros((1, units))]\n",
    "    enc_out, enc_hidden = encoder(inputs, hidden)\n",
    "\n",
    "    dec_hidden = enc_hidden\n",
    "    dec_input = tf.expand_dims([targ_tokenizer.word_index['<start>']], 0)\n",
    "\n",
    "    for t in range(max_length_targ):\n",
    "        predictions, dec_hidden, attention_weights = decoder(dec_input,\n",
    "                                                             dec_hidden,\n",
    "                                                             enc_out)\n",
    "\n",
    "        # storing the attention weights to plot later on\n",
    "        attention_weights = tf.reshape(attention_weights, (-1, ))\n",
    "        attention_plot[t] = attention_weights.numpy()\n",
    "\n",
    "        predicted_id = tf.argmax(predictions[0]).numpy()\n",
    "\n",
    "        result += targ_tokenizer.index_word[predicted_id] + ' '\n",
    "\n",
    "        if targ_tokenizer.index_word[predicted_id] == '<end>':\n",
    "            return result, sentence, attention_plot\n",
    "\n",
    "        # the predicted ID is fed back into the model\n",
    "        dec_input = tf.expand_dims([predicted_id], 0)\n",
    "\n",
    "    return result, sentence, attention_plot"
   ]
  },
  {
   "cell_type": "code",
   "execution_count": 16,
   "metadata": {},
   "outputs": [],
   "source": [
    "# function for plotting the attention weights\n",
    "def plot_attention(attention, sentence, predicted_sentence):\n",
    "    fig = plt.figure(figsize=(10,10))\n",
    "    ax = fig.add_subplot(1, 1, 1)\n",
    "    ax.matshow(attention, cmap='viridis')\n",
    "\n",
    "    fontdict = {'fontsize': 14}\n",
    "\n",
    "    ax.set_xticklabels([''] + sentence, fontdict=fontdict, rotation=90)\n",
    "    ax.set_yticklabels([''] + predicted_sentence, fontdict=fontdict)\n",
    "\n",
    "    plt.show()"
   ]
  },
  {
   "cell_type": "code",
   "execution_count": 17,
   "metadata": {},
   "outputs": [],
   "source": [
    "def re_parapharse(sentence):\n",
    "    result, sentence, attention_plot = evaluate(sentence)\n",
    "\n",
    "    print('Input: %s' % (sentence))\n",
    "    print('Predicted re_parapharse: {}'.format(result))\n",
    "\n",
    "    attention_plot = attention_plot[:len(result.split(' ')), :len(sentence.split(' '))]\n",
    "    plot_attention(attention_plot, sentence.split(' '), result.split(' '))"
   ]
  },
  {
   "cell_type": "code",
   "execution_count": 18,
   "metadata": {},
   "outputs": [
    {
     "data": {
      "text/plain": [
       "<tensorflow.python.training.tracking.util.CheckpointLoadStatus at 0x7ff39eede978>"
      ]
     },
     "execution_count": 18,
     "metadata": {},
     "output_type": "execute_result"
    }
   ],
   "source": [
    "checkpoint.restore(tf.train.latest_checkpoint(checkpoint_dir))"
   ]
  },
  {
   "cell_type": "code",
   "execution_count": 19,
   "metadata": {},
   "outputs": [
    {
     "data": {
      "text/html": [
       "<div>\n",
       "<style scoped>\n",
       "    .dataframe tbody tr th:only-of-type {\n",
       "        vertical-align: middle;\n",
       "    }\n",
       "\n",
       "    .dataframe tbody tr th {\n",
       "        vertical-align: top;\n",
       "    }\n",
       "\n",
       "    .dataframe thead th {\n",
       "        text-align: right;\n",
       "    }\n",
       "</style>\n",
       "<table border=\"1\" class=\"dataframe\">\n",
       "  <thead>\n",
       "    <tr style=\"text-align: right;\">\n",
       "      <th></th>\n",
       "      <th>firstSentence</th>\n",
       "      <th>secondSentence</th>\n",
       "    </tr>\n",
       "  </thead>\n",
       "  <tbody>\n",
       "    <tr>\n",
       "      <th>40653986</th>\n",
       "      <td>I think it 's a great idea .</td>\n",
       "      <td>Oh , no .</td>\n",
       "    </tr>\n",
       "    <tr>\n",
       "      <th>40653987</th>\n",
       "      <td>I feel fine .</td>\n",
       "      <td>Not bad .</td>\n",
       "    </tr>\n",
       "    <tr>\n",
       "      <th>40653988</th>\n",
       "      <td>He might be dead .</td>\n",
       "      <td>Right .</td>\n",
       "    </tr>\n",
       "    <tr>\n",
       "      <th>40653989</th>\n",
       "      <td>Finished .</td>\n",
       "      <td>I don 't get it .</td>\n",
       "    </tr>\n",
       "    <tr>\n",
       "      <th>40653990</th>\n",
       "      <td>All right , thank you .</td>\n",
       "      <td>Keep moving .</td>\n",
       "    </tr>\n",
       "    <tr>\n",
       "      <th>40653991</th>\n",
       "      <td>I beg of you .</td>\n",
       "      <td>Now ?</td>\n",
       "    </tr>\n",
       "    <tr>\n",
       "      <th>40653992</th>\n",
       "      <td>Go .</td>\n",
       "      <td>sobbing</td>\n",
       "    </tr>\n",
       "    <tr>\n",
       "      <th>40653993</th>\n",
       "      <td>Everything 's fine .</td>\n",
       "      <td>What 's this about ?</td>\n",
       "    </tr>\n",
       "    <tr>\n",
       "      <th>40653994</th>\n",
       "      <td>I did .</td>\n",
       "      <td>RIGHT .</td>\n",
       "    </tr>\n",
       "    <tr>\n",
       "      <th>40653995</th>\n",
       "      <td>Amazing .</td>\n",
       "      <td>Oh , my .</td>\n",
       "    </tr>\n",
       "  </tbody>\n",
       "</table>\n",
       "</div>"
      ],
      "text/plain": [
       "                         firstSentence        secondSentence\n",
       "40653986  I think it 's a great idea .             Oh , no .\n",
       "40653987                 I feel fine .             Not bad .\n",
       "40653988            He might be dead .               Right .\n",
       "40653989                    Finished .     I don 't get it .\n",
       "40653990       All right , thank you .         Keep moving .\n",
       "40653991                I beg of you .                 Now ?\n",
       "40653992                          Go .               sobbing\n",
       "40653993          Everything 's fine .  What 's this about ?\n",
       "40653994                       I did .               RIGHT .\n",
       "40653995                     Amazing .             Oh , my ."
      ]
     },
     "execution_count": 19,
     "metadata": {},
     "output_type": "execute_result"
    }
   ],
   "source": [
    "df.tail(10)"
   ]
  },
  {
   "cell_type": "code",
   "execution_count": 21,
   "metadata": {},
   "outputs": [
    {
     "name": "stdout",
     "output_type": "stream",
     "text": [
      "Input: <start> right . <end>\n",
      "Predicted re_parapharse: right . <end> \n"
     ]
    },
    {
     "data": {
      "image/png": "[encoded data removed]",
      "text/plain": [
       "<Figure size 720x720 with 1 Axes>"
      ]
     },
     "metadata": {
      "needs_background": "light"
     },
     "output_type": "display_data"
    },
    {
     "name": "stdout",
     "output_type": "stream",
     "text": [
      "Input: <start> right . <end>\n",
      "Predicted re_parapharse: right . <end> \n"
     ]
    },
    {
     "data": {
      "image/png": "[encoded data removed]",
      "text/plain": [
       "<Figure size 720x720 with 1 Axes>"
      ]
     },
     "metadata": {
      "needs_background": "light"
     },
     "output_type": "display_data"
    },
    {
     "name": "stdout",
     "output_type": "stream",
     "text": [
      "Input: <start> right . <end>\n",
      "Predicted re_parapharse: right . <end> \n"
     ]
    },
    {
     "data": {
      "image/png": "[encoded data removed]",
      "text/plain": [
       "<Figure size 720x720 with 1 Axes>"
      ]
     },
     "metadata": {
      "needs_background": "light"
     },
     "output_type": "display_data"
    },
    {
     "name": "stdout",
     "output_type": "stream",
     "text": [
      "Input: <start> okay , i ' m out of here . <end>\n",
      "Predicted re_parapharse: right , i ' m out of here . <end> \n"
     ]
    },
    {
     "data": {
      "image/png": "[encoded data removed]",
      "text/plain": [
       "<Figure size 720x720 with 1 Axes>"
      ]
     },
     "metadata": {
      "needs_background": "light"
     },
     "output_type": "display_data"
    },
    {
     "name": "stdout",
     "output_type": "stream",
     "text": [
      "Input: <start> oh man . <end>\n",
      "Predicted re_parapharse: oh shit . <end> \n"
     ]
    },
    {
     "data": {
      "image/png": "[encoded data removed]",
      "text/plain": [
       "<Figure size 720x720 with 1 Axes>"
      ]
     },
     "metadata": {
      "needs_background": "light"
     },
     "output_type": "display_data"
    },
    {
     "name": "stdout",
     "output_type": "stream",
     "text": [
      "Input: <start> not a clue . <end>\n",
      "Predicted re_parapharse: l ' m not a clue . <end> \n"
     ]
    },
    {
     "data": {
      "image/png": "[encoded data removed]",
      "text/plain": [
       "<Figure size 720x720 with 1 Axes>"
      ]
     },
     "metadata": {
      "needs_background": "light"
     },
     "output_type": "display_data"
    },
    {
     "name": "stdout",
     "output_type": "stream",
     "text": [
      "Input: <start> move . <end>\n",
      "Predicted re_parapharse: move it . <end> \n"
     ]
    },
    {
     "data": {
      "image/png": "[encoded data removed]",
      "text/plain": [
       "<Figure size 720x720 with 1 Axes>"
      ]
     },
     "metadata": {
      "needs_background": "light"
     },
     "output_type": "display_data"
    },
    {
     "name": "stdout",
     "output_type": "stream",
     "text": [
      "Input: <start> keep it down . <end>\n",
      "Predicted re_parapharse: keep it down . <end> \n"
     ]
    },
    {
     "data": {
      "image/png": "[encoded data removed]",
      "text/plain": [
       "<Figure size 720x720 with 1 Axes>"
      ]
     },
     "metadata": {
      "needs_background": "light"
     },
     "output_type": "display_data"
    },
    {
     "name": "stdout",
     "output_type": "stream",
     "text": [
      "Input: <start> i won ' t let them . <end>\n",
      "Predicted re_parapharse: i won ' t permit it . <end> \n"
     ]
    },
    {
     "data": {
      "image/png": "[encoded data removed]",
      "text/plain": [
       "<Figure size 720x720 with 1 Axes>"
      ]
     },
     "metadata": {
      "needs_background": "light"
     },
     "output_type": "display_data"
    },
    {
     "name": "stdout",
     "output_type": "stream",
     "text": [
      "Input: <start> i will . <end>\n",
      "Predicted re_parapharse: i will . <end> \n"
     ]
    },
    {
     "data": {
      "image/png": "[encoded data removed]",
      "text/plain": [
       "<Figure size 720x720 with 1 Axes>"
      ]
     },
     "metadata": {
      "needs_background": "light"
     },
     "output_type": "display_data"
    },
    {
     "name": "stdout",
     "output_type": "stream",
     "text": [
      "Input: <start> i think it ' s a great idea . <end>\n",
      "Predicted re_parapharse: i think it ' s a great idea . <end> \n"
     ]
    },
    {
     "data": {
      "image/png": "[encoded data removed]",
      "text/plain": [
       "<Figure size 720x720 with 1 Axes>"
      ]
     },
     "metadata": {
      "needs_background": "light"
     },
     "output_type": "display_data"
    },
    {
     "name": "stdout",
     "output_type": "stream",
     "text": [
      "Input: <start> i feel fine . <end>\n",
      "Predicted re_parapharse: i feel fine . <end> \n"
     ]
    },
    {
     "data": {
      "image/png": "[encoded data removed]",
      "text/plain": [
       "<Figure size 720x720 with 1 Axes>"
      ]
     },
     "metadata": {
      "needs_background": "light"
     },
     "output_type": "display_data"
    },
    {
     "name": "stdout",
     "output_type": "stream",
     "text": [
      "Input: <start> he might be dead . <end>\n",
      "Predicted re_parapharse: he might be dead . <end> \n"
     ]
    },
    {
     "data": {
      "image/png": "[encoded data removed]",
      "text/plain": [
       "<Figure size 720x720 with 1 Axes>"
      ]
     },
     "metadata": {
      "needs_background": "light"
     },
     "output_type": "display_data"
    },
    {
     "name": "stdout",
     "output_type": "stream",
     "text": [
      "Input: <start> finished . <end>\n",
      "Predicted re_parapharse: it ' s over . <end> \n"
     ]
    },
    {
     "data": {
      "image/png": "[encoded data removed]",
      "text/plain": [
       "<Figure size 720x720 with 1 Axes>"
      ]
     },
     "metadata": {
      "needs_background": "light"
     },
     "output_type": "display_data"
    },
    {
     "name": "stdout",
     "output_type": "stream",
     "text": [
      "Input: <start> all right , thank you . <end>\n",
      "Predicted re_parapharse: okay , thanks . <end> \n"
     ]
    },
    {
     "data": {
      "image/png": "[encoded data removed]",
      "text/plain": [
       "<Figure size 720x720 with 1 Axes>"
      ]
     },
     "metadata": {
      "needs_background": "light"
     },
     "output_type": "display_data"
    },
    {
     "name": "stdout",
     "output_type": "stream",
     "text": [
      "Input: <start> i beg of you . <end>\n",
      "Predicted re_parapharse: i beg you . <end> \n"
     ]
    },
    {
     "data": {
      "image/png": "[encoded data removed]",
      "text/plain": [
       "<Figure size 720x720 with 1 Axes>"
      ]
     },
     "metadata": {
      "needs_background": "light"
     },
     "output_type": "display_data"
    },
    {
     "name": "stdout",
     "output_type": "stream",
     "text": [
      "Input: <start> go . <end>\n",
      "Predicted re_parapharse: go on , let ' s go away . <end> \n"
     ]
    },
    {
     "data": {
      "image/png": "[encoded data removed]",
      "text/plain": [
       "<Figure size 720x720 with 1 Axes>"
      ]
     },
     "metadata": {
      "needs_background": "light"
     },
     "output_type": "display_data"
    },
    {
     "name": "stdout",
     "output_type": "stream",
     "text": [
      "Input: <start> everything ' s fine . <end>\n",
      "Predicted re_parapharse: everything is fine . <end> \n"
     ]
    },
    {
     "data": {
      "image/png": "[encoded data removed]",
      "text/plain": [
       "<Figure size 720x720 with 1 Axes>"
      ]
     },
     "metadata": {
      "needs_background": "light"
     },
     "output_type": "display_data"
    },
    {
     "name": "stdout",
     "output_type": "stream",
     "text": [
      "Input: <start> i did . <end>\n",
      "Predicted re_parapharse: i did . <end> \n"
     ]
    },
    {
     "data": {
      "image/png": "[encoded data removed]",
      "text/plain": [
       "<Figure size 720x720 with 1 Axes>"
      ]
     },
     "metadata": {
      "needs_background": "light"
     },
     "output_type": "display_data"
    },
    {
     "name": "stdout",
     "output_type": "stream",
     "text": [
      "Input: <start> amazing . <end>\n",
      "Predicted re_parapharse: that ' s amazing . <end> \n"
     ]
    },
    {
     "data": {
      "image/png": "[encoded data removed]",
      "text/plain": [
       "<Figure size 720x720 with 1 Axes>"
      ]
     },
     "metadata": {
      "needs_background": "light"
     },
     "output_type": "display_data"
    }
   ],
   "source": [
    "for x in df.iloc[-20:, :].firstSentence.values:\n",
    "    re_parapharse(x)"
   ]
  },
  {
   "cell_type": "code",
   "execution_count": null,
   "metadata": {},
   "outputs": [],
   "source": []
  }
 ],
 "metadata": {
  "kernelspec": {
   "display_name": "Python 3",
   "language": "python",
   "name": "python3"
  },
  "language_info": {
   "codemirror_mode": {
    "name": "ipython",
    "version": 3
   },
   "file_extension": ".py",
   "mimetype": "text/x-python",
   "name": "python",
   "nbconvert_exporter": "python",
   "pygments_lexer": "ipython3",
   "version": "3.6.8"
  }
 },
 "nbformat": 4,
 "nbformat_minor": 2
}
