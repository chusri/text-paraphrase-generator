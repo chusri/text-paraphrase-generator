{
 "cells": [
  {
   "cell_type": "code",
   "execution_count": 1,
   "metadata": {},
   "outputs": [],
   "source": [
    "# for auto-reloading external modules\n",
    "# see http://stackoverflow.com/questions/1907993/autoreload-of-modules-in-ipython\n",
    "%load_ext autoreload\n",
    "%autoreload 2\n",
    "\n",
    "import os,sys,inspect\n",
    "currentdir = os.path.dirname(os.path.abspath(inspect.getfile(inspect.currentframe())))\n",
    "parentdir = os.path.dirname(currentdir)\n",
    "sys.path.insert(0, parentdir)"
   ]
  },
  {
   "cell_type": "code",
   "execution_count": 2,
   "metadata": {},
   "outputs": [
    {
     "name": "stdout",
     "output_type": "stream",
     "text": [
      "Wed Apr 24 04:25:08 2019       \n",
      "+-----------------------------------------------------------------------------+\n",
      "| NVIDIA-SMI 418.56       Driver Version: 418.56       CUDA Version: 10.1     |\n",
      "|-------------------------------+----------------------+----------------------+\n",
      "| GPU  Name        Persistence-M| Bus-Id        Disp.A | Volatile Uncorr. ECC |\n",
      "| Fan  Temp  Perf  Pwr:Usage/Cap|         Memory-Usage | GPU-Util  Compute M. |\n",
      "|===============================+======================+======================|\n",
      "|   0  GeForce GTX 1080    Off  | 00000000:02:00.0 Off |                  N/A |\n",
      "|  0%   37C    P8     7W / 198W |      2MiB /  8119MiB |      0%      Default |\n",
      "+-------------------------------+----------------------+----------------------+\n",
      "                                                                               \n",
      "+-----------------------------------------------------------------------------+\n",
      "| Processes:                                                       GPU Memory |\n",
      "|  GPU       PID   Type   Process name                             Usage      |\n",
      "|=============================================================================|\n",
      "|  No running processes found                                                 |\n",
      "+-----------------------------------------------------------------------------+\n"
     ]
    }
   ],
   "source": [
    "!nvidia-smi"
   ]
  },
  {
   "cell_type": "code",
   "execution_count": 18,
   "metadata": {},
   "outputs": [],
   "source": [
    "from __future__ import absolute_import, division, print_function, unicode_literals\n",
    "import tensorflow as tf\n",
    "\n",
    "import matplotlib.pyplot as plt\n",
    "from sklearn.model_selection import train_test_split\n",
    "\n",
    "from utils.utils import get_train, convert\n",
    "from utils.preprocess import preprocess_sentence, max_length, tokenize\n",
    "from models.encoder import Encoder\n",
    "from models.decoder import Decoder\n",
    "from models.bahdanauattention import BahdanauAttention\n",
    "from models.keyvalueattention import KeyValueAttention\n",
    "\n",
    "\n",
    "import re\n",
    "import numpy as np\n",
    "import os\n",
    "import io\n",
    "import time"
   ]
  },
  {
   "cell_type": "code",
   "execution_count": 4,
   "metadata": {},
   "outputs": [
    {
     "data": {
      "text/plain": [
       "'2.0.0-alpha0'"
      ]
     },
     "execution_count": 4,
     "metadata": {},
     "output_type": "execute_result"
    }
   ],
   "source": [
    "tf.__version__"
   ]
  },
  {
   "cell_type": "code",
   "execution_count": 7,
   "metadata": {},
   "outputs": [
    {
     "name": "stdout",
     "output_type": "stream",
     "text": [
      "CPU times: user 1min 33s, sys: 1.68 s, total: 1min 35s\n",
      "Wall time: 1min 35s\n"
     ]
    }
   ],
   "source": [
    "%%time\n",
    "df = get_train()"
   ]
  },
  {
   "cell_type": "code",
   "execution_count": 83,
   "metadata": {},
   "outputs": [
    {
     "data": {
      "text/html": [
       "<div>\n",
       "<style scoped>\n",
       "    .dataframe tbody tr th:only-of-type {\n",
       "        vertical-align: middle;\n",
       "    }\n",
       "\n",
       "    .dataframe tbody tr th {\n",
       "        vertical-align: top;\n",
       "    }\n",
       "\n",
       "    .dataframe thead th {\n",
       "        text-align: right;\n",
       "    }\n",
       "</style>\n",
       "<table border=\"1\" class=\"dataframe\">\n",
       "  <thead>\n",
       "    <tr style=\"text-align: right;\">\n",
       "      <th></th>\n",
       "      <th>firstSentence</th>\n",
       "      <th>secondSentence</th>\n",
       "    </tr>\n",
       "  </thead>\n",
       "  <tbody>\n",
       "    <tr>\n",
       "      <th>0</th>\n",
       "      <td>&lt;start&gt; you ' re not alone , claire . &lt;end&gt;</td>\n",
       "      <td>&lt;start&gt; you are not alone , claire . &lt;end&gt;</td>\n",
       "    </tr>\n",
       "    <tr>\n",
       "      <th>1</th>\n",
       "      <td>&lt;start&gt; who told you to throw acid at vargas ,...</td>\n",
       "      <td>&lt;start&gt; who told you to throw acid at vargas ?...</td>\n",
       "    </tr>\n",
       "    <tr>\n",
       "      <th>2</th>\n",
       "      <td>&lt;start&gt; where the pure angel merges with the a...</td>\n",
       "      <td>&lt;start&gt; where the pure angel merges with the a...</td>\n",
       "    </tr>\n",
       "    <tr>\n",
       "      <th>3</th>\n",
       "      <td>&lt;start&gt; where is it written what is it i ' m m...</td>\n",
       "      <td>&lt;start&gt; where is it written what it is i ' m m...</td>\n",
       "    </tr>\n",
       "    <tr>\n",
       "      <th>4</th>\n",
       "      <td>&lt;start&gt; we ' ll find the skipper and then we '...</td>\n",
       "      <td>&lt;start&gt; we ' ll find the skipper and then we g...</td>\n",
       "    </tr>\n",
       "    <tr>\n",
       "      <th>5</th>\n",
       "      <td>&lt;start&gt; seymour ' s darling is third . . . and...</td>\n",
       "      <td>&lt;start&gt; seymour ' s darling is third . . . and...</td>\n",
       "    </tr>\n",
       "    <tr>\n",
       "      <th>6</th>\n",
       "      <td>&lt;start&gt; scud , do you read me ? &lt;end&gt;</td>\n",
       "      <td>&lt;start&gt; scud , you reading me ? &lt;end&gt;</td>\n",
       "    </tr>\n",
       "    <tr>\n",
       "      <th>7</th>\n",
       "      <td>&lt;start&gt; jumby now wants to be born . &lt;end&gt;</td>\n",
       "      <td>&lt;start&gt; jumby want birth . &lt;end&gt;</td>\n",
       "    </tr>\n",
       "    <tr>\n",
       "      <th>8</th>\n",
       "      <td>&lt;start&gt; it was a difficult and long delivery ....</td>\n",
       "      <td>&lt;start&gt; the delivery was difficult and long . ...</td>\n",
       "    </tr>\n",
       "    <tr>\n",
       "      <th>9</th>\n",
       "      <td>&lt;start&gt; it ' s a shit , but it ' s better than...</td>\n",
       "      <td>&lt;start&gt; it ' s a shit , but it ' s better that...</td>\n",
       "    </tr>\n",
       "  </tbody>\n",
       "</table>\n",
       "</div>"
      ],
      "text/plain": [
       "                                       firstSentence  \\\n",
       "0        <start> you ' re not alone , claire . <end>   \n",
       "1  <start> who told you to throw acid at vargas ,...   \n",
       "2  <start> where the pure angel merges with the a...   \n",
       "3  <start> where is it written what is it i ' m m...   \n",
       "4  <start> we ' ll find the skipper and then we '...   \n",
       "5  <start> seymour ' s darling is third . . . and...   \n",
       "6              <start> scud , do you read me ? <end>   \n",
       "7         <start> jumby now wants to be born . <end>   \n",
       "8  <start> it was a difficult and long delivery ....   \n",
       "9  <start> it ' s a shit , but it ' s better than...   \n",
       "\n",
       "                                      secondSentence  \n",
       "0         <start> you are not alone , claire . <end>  \n",
       "1  <start> who told you to throw acid at vargas ?...  \n",
       "2  <start> where the pure angel merges with the a...  \n",
       "3  <start> where is it written what it is i ' m m...  \n",
       "4  <start> we ' ll find the skipper and then we g...  \n",
       "5  <start> seymour ' s darling is third . . . and...  \n",
       "6              <start> scud , you reading me ? <end>  \n",
       "7                   <start> jumby want birth . <end>  \n",
       "8  <start> the delivery was difficult and long . ...  \n",
       "9  <start> it ' s a shit , but it ' s better that...  "
      ]
     },
     "execution_count": 83,
     "metadata": {},
     "output_type": "execute_result"
    }
   ],
   "source": [
    "num_examples = 1000000\n",
    "num_examples = 500000\n",
    "num_examples = 2000\n",
    "df_train = df[:num_examples].copy()\n",
    "df_train['firstSentence'] = np.vectorize(preprocess_sentence)(df_train['firstSentence'])\n",
    "df_train['secondSentence'] = np.vectorize(preprocess_sentence)(df_train['secondSentence'])\n",
    "df_train.head(10)"
   ]
  },
  {
   "cell_type": "code",
   "execution_count": 84,
   "metadata": {},
   "outputs": [
    {
     "name": "stdout",
     "output_type": "stream",
     "text": [
      "CPU times: user 66 ms, sys: 223 µs, total: 66.2 ms\n",
      "Wall time: 61.4 ms\n"
     ]
    }
   ],
   "source": [
    "%%time\n",
    "input_tensor, inp_tokenizer = tokenize(df_train['firstSentence'].values.tolist())\n",
    "target_tensor, targ_tokenizer = tokenize(df_train['secondSentence'].values.tolist())\n",
    "max_length_targ, max_length_inp = max_length(target_tensor), max_length(input_tensor)\n",
    "input_tensor_train, input_tensor_val, target_tensor_train, target_tensor_val = train_test_split(input_tensor, target_tensor, test_size=0.2)\n",
    "len(input_tensor_train), len(target_tensor_train), len(input_tensor_val), len(target_tensor_val)"
   ]
  },
  {
   "cell_type": "code",
   "execution_count": 85,
   "metadata": {},
   "outputs": [
    {
     "name": "stdout",
     "output_type": "stream",
     "text": [
      "1\t<start>\n",
      "28\tis\n",
      "29\tshe\n",
      "621\thot\n",
      "6\t?\n",
      "2\t<end>\n",
      "1\t<start>\n",
      "8\ti\n",
      "6\t'\n",
      "32\tm\n",
      "70\ther\n",
      "299\tlawyer\n",
      "3\t.\n",
      "2\t<end>\n"
     ]
    }
   ],
   "source": [
    "convert(inp_tokenizer, input_tensor_train[5])\n",
    "convert(targ_tokenizer, target_tensor_train[4])"
   ]
  },
  {
   "cell_type": "code",
   "execution_count": 86,
   "metadata": {},
   "outputs": [
    {
     "data": {
      "text/plain": [
       "(TensorShape([64, 20]), TensorShape([64, 20]))"
      ]
     },
     "execution_count": 86,
     "metadata": {},
     "output_type": "execute_result"
    }
   ],
   "source": [
    "BUFFER_SIZE = len(input_tensor_train)\n",
    "BATCH_SIZE = 64\n",
    "steps_per_epoch = len(input_tensor_train)//BATCH_SIZE\n",
    "embedding_dim = 256\n",
    "units = 1024\n",
    "vocab_inp_size = len(inp_tokenizer.word_index)+1\n",
    "vocab_tar_size = len(targ_tokenizer.word_index)+1\n",
    "\n",
    "dataset = tf.data.Dataset.from_tensor_slices((input_tensor_train, target_tensor_train)).shuffle(BUFFER_SIZE)\n",
    "dataset = dataset.batch(BATCH_SIZE, drop_remainder=True)\n",
    "example_input_batch, example_target_batch = next(iter(dataset))\n",
    "example_input_batch.shape, example_target_batch.shape"
   ]
  },
  {
   "cell_type": "code",
   "execution_count": 87,
   "metadata": {},
   "outputs": [],
   "source": [
    "def loss_function(real, pred):\n",
    "    mask = tf.math.logical_not(tf.math.equal(real, 0))\n",
    "    loss_ = loss_object(real, pred)\n",
    "\n",
    "    mask = tf.cast(mask, dtype=loss_.dtype)\n",
    "    loss_ *= mask\n",
    "\n",
    "    return tf.reduce_mean(loss_)"
   ]
  },
  {
   "cell_type": "code",
   "execution_count": 88,
   "metadata": {},
   "outputs": [],
   "source": [
    "@tf.function\n",
    "def train_step(inp, targ, enc_hidden):\n",
    "    loss = 0\n",
    "\n",
    "    with tf.GradientTape() as tape:\n",
    "        enc_output, enc_hidden = encoder(inp, enc_hidden)\n",
    "\n",
    "        dec_hidden = enc_hidden\n",
    "\n",
    "        dec_input = tf.expand_dims([targ_tokenizer.word_index['<start>']] *\n",
    "                                   BATCH_SIZE, 1)\n",
    "\n",
    "        # Teacher forcing - feeding the target as the next input\n",
    "        for t in range(1, targ.shape[1]):\n",
    "            # passing enc_output to the decoder\n",
    "            predictions, dec_hidden, _ = decoder(dec_input, dec_hidden,\n",
    "                                                 enc_output)\n",
    "\n",
    "            loss += loss_function(targ[:, t], predictions)\n",
    "\n",
    "            # using teacher forcing\n",
    "            dec_input = tf.expand_dims(targ[:, t], 1)\n",
    "\n",
    "    batch_loss = (loss / int(targ.shape[1]))\n",
    "\n",
    "    variables = encoder.trainable_variables + decoder.trainable_variables\n",
    "\n",
    "    gradients = tape.gradient(loss, variables)\n",
    "\n",
    "    optimizer.apply_gradients(zip(gradients, variables))\n",
    "\n",
    "    return batch_loss"
   ]
  },
  {
   "cell_type": "code",
   "execution_count": 89,
   "metadata": {},
   "outputs": [],
   "source": [
    "optimizer = tf.keras.optimizers.Adam()\n",
    "loss_object = tf.keras.losses.SparseCategoricalCrossentropy(from_logits=True, reduction='none')"
   ]
  },
  {
   "cell_type": "code",
   "execution_count": 90,
   "metadata": {},
   "outputs": [
    {
     "name": "stdout",
     "output_type": "stream",
     "text": [
      "Encoder output shape: (batch size, sequence length, units) (64, 20, 1024)\n",
      "Encoder Hidden state shape: (batch size, units) (64, 1024)\n",
      "Attention result shape: (batch size, units) (64, 1, 1024)\n",
      "Attention weights shape: (batch_size, sequence_length, 1) (64, 20, 1)\n",
      "Decoder output shape: (batch_size, vocab size) (64, 1629)\n"
     ]
    }
   ],
   "source": [
    "encoder = Encoder(vocab_inp_size, embedding_dim, units, BATCH_SIZE)\n",
    "\n",
    "# sample input\n",
    "sample_hidden = encoder.initialize_hidden_state()\n",
    "sample_output, sample_hidden = encoder(example_input_batch, sample_hidden)\n",
    "print ('Encoder output shape: (batch size, sequence length, units) {}'.format(sample_output.shape))\n",
    "print ('Encoder Hidden state shape: (batch size, units) {}'.format(sample_hidden.shape))\n",
    "attention_layer = KeyValueAttention(10)\n",
    "attention_result, attention_weights = attention_layer(sample_hidden, sample_output)\n",
    "\n",
    "print(\"Attention result shape: (batch size, units) {}\".format(attention_result.shape))\n",
    "print(\"Attention weights shape: (batch_size, sequence_length, 1) {}\".format(attention_weights.shape))\n",
    "decoder = Decoder(vocab_tar_size, embedding_dim, units, BATCH_SIZE)\n",
    "\n",
    "sample_decoder_output, _, _ = decoder(tf.random.uniform((64, 1)),\n",
    "                                      sample_hidden, sample_output)\n",
    "\n",
    "print ('Decoder output shape: (batch_size, vocab size) {}'.format(sample_decoder_output.shape))"
   ]
  },
  {
   "cell_type": "code",
   "execution_count": 91,
   "metadata": {},
   "outputs": [],
   "source": [
    "checkpoint_dir = './training_checkpoints_2'\n",
    "checkpoint_prefix = os.path.join(checkpoint_dir, \"ckpt\")\n",
    "checkpoint = tf.train.Checkpoint(optimizer=optimizer, encoder=encoder, decoder=decoder)"
   ]
  },
  {
   "cell_type": "code",
   "execution_count": 92,
   "metadata": {},
   "outputs": [
    {
     "name": "stdout",
     "output_type": "stream",
     "text": [
      "Epoch 1 Batch 0 Loss 2.2419\n",
      "Epoch 1 Loss 1.7041\n",
      "Time taken for 1 epoch 17.384071588516235 sec\n",
      "\n",
      "Epoch 2 Batch 0 Loss 1.4016\n",
      "Epoch 2 Loss 1.3145\n",
      "Time taken for 1 epoch 3.6381795406341553 sec\n",
      "\n",
      "Epoch 3 Batch 0 Loss 1.2115\n",
      "Epoch 3 Loss 1.1679\n",
      "Time taken for 1 epoch 3.296686887741089 sec\n",
      "\n",
      "Epoch 4 Batch 0 Loss 1.0509\n",
      "Epoch 4 Loss 1.0597\n",
      "Time taken for 1 epoch 3.6203112602233887 sec\n",
      "\n",
      "Epoch 5 Batch 0 Loss 0.9643\n",
      "Epoch 5 Loss 0.9899\n",
      "Time taken for 1 epoch 3.285379409790039 sec\n",
      "\n",
      "Epoch 6 Batch 0 Loss 0.9121\n",
      "Epoch 6 Loss 0.9347\n",
      "Time taken for 1 epoch 3.6175835132598877 sec\n",
      "\n",
      "Epoch 7 Batch 0 Loss 0.8627\n",
      "Epoch 7 Loss 0.8908\n",
      "Time taken for 1 epoch 3.298396348953247 sec\n",
      "\n",
      "Epoch 8 Batch 0 Loss 0.8143\n",
      "Epoch 8 Loss 0.8474\n",
      "Time taken for 1 epoch 3.6064913272857666 sec\n",
      "\n",
      "Epoch 9 Batch 0 Loss 0.7721\n",
      "Epoch 9 Loss 0.8020\n",
      "Time taken for 1 epoch 3.289963960647583 sec\n",
      "\n",
      "Epoch 10 Batch 0 Loss 0.7446\n",
      "Epoch 10 Loss 0.7714\n",
      "Time taken for 1 epoch 3.602538585662842 sec\n",
      "\n"
     ]
    }
   ],
   "source": [
    "EPOCHS = 10\n",
    "for epoch in range(EPOCHS):\n",
    "    start = time.time()\n",
    "\n",
    "    enc_hidden = encoder.initialize_hidden_state()\n",
    "    total_loss = 0\n",
    "\n",
    "    for (batch, (inp, targ)) in enumerate(dataset.take(steps_per_epoch)):\n",
    "        batch_loss = train_step(inp, targ, enc_hidden)\n",
    "        total_loss += batch_loss\n",
    "\n",
    "        if batch % 100 == 0:\n",
    "            print('Epoch {} Batch {} Loss {:.4f}'.format(\n",
    "                epoch + 1, batch, batch_loss.numpy()))\n",
    "    # saving (checkpoint) the model every 2 epochs\n",
    "    if (epoch + 1) % 2 == 0:\n",
    "        checkpoint.save(file_prefix=checkpoint_prefix)\n",
    "\n",
    "    print('Epoch {} Loss {:.4f}'.format(epoch + 1,\n",
    "                                        total_loss / steps_per_epoch))\n",
    "    print('Time taken for 1 epoch {} sec\\n'.format(time.time() - start))"
   ]
  },
  {
   "cell_type": "code",
   "execution_count": 98,
   "metadata": {},
   "outputs": [],
   "source": [
    "def evaluate(sentence):\n",
    "    attention_plot = np.zeros((max_length_targ, max_length_inp))\n",
    "\n",
    "    sentence = preprocess_sentence(sentence)\n",
    "\n",
    "    inputs = [inp_tokenizer.word_index[i] for i in sentence.split(' ')]\n",
    "    inputs = tf.keras.preprocessing.sequence.pad_sequences([inputs],\n",
    "                                                           maxlen=max_length_inp,\n",
    "                                                           padding='post')\n",
    "    inputs = tf.convert_to_tensor(inputs)\n",
    "\n",
    "    result = ''\n",
    "\n",
    "    hidden = [tf.zeros((1, units))]\n",
    "    enc_out, enc_hidden = encoder(inputs, hidden)\n",
    "\n",
    "    dec_hidden = enc_hidden\n",
    "    dec_input = tf.expand_dims([targ_tokenizer.word_index['<start>']], 0)\n",
    "\n",
    "    for t in range(max_length_targ):\n",
    "        predictions, dec_hidden, attention_weights = decoder(dec_input,\n",
    "                                                             dec_hidden,\n",
    "                                                             enc_out)\n",
    "\n",
    "        # storing the attention weights to plot later on\n",
    "        attention_weights = tf.reshape(attention_weights, (-1, ))\n",
    "        attention_plot[t] = attention_weights.numpy()\n",
    "\n",
    "        predicted_id = tf.argmax(predictions[0]).numpy()\n",
    "\n",
    "        result += targ_tokenizer.index_word[predicted_id] + ' '\n",
    "\n",
    "        if targ_tokenizer.index_word[predicted_id] == '<end>':\n",
    "            return result, sentence, attention_plot\n",
    "\n",
    "        # the predicted ID is fed back into the model\n",
    "        dec_input = tf.expand_dims([predicted_id], 0)\n",
    "\n",
    "    return result, sentence, attention_plot"
   ]
  },
  {
   "cell_type": "code",
   "execution_count": 99,
   "metadata": {},
   "outputs": [],
   "source": [
    "# function for plotting the attention weights\n",
    "def plot_attention(attention, sentence, predicted_sentence):\n",
    "    fig = plt.figure(figsize=(10,10))\n",
    "    ax = fig.add_subplot(1, 1, 1)\n",
    "    ax.matshow(attention, cmap='viridis')\n",
    "\n",
    "    fontdict = {'fontsize': 14}\n",
    "\n",
    "    ax.set_xticklabels([''] + sentence, fontdict=fontdict, rotation=90)\n",
    "    ax.set_yticklabels([''] + predicted_sentence, fontdict=fontdict)\n",
    "\n",
    "    plt.show()"
   ]
  },
  {
   "cell_type": "code",
   "execution_count": 100,
   "metadata": {},
   "outputs": [],
   "source": [
    "def re_parapharse(sentence):\n",
    "    result, sentence, attention_plot = evaluate(sentence)\n",
    "\n",
    "    print('Input: %s' % (sentence))\n",
    "    print('Predicted re_parapharse: {}'.format(result))\n",
    "\n",
    "    attention_plot = attention_plot[:len(result.split(' ')), :len(sentence.split(' '))]\n",
    "    plot_attention(attention_plot, sentence.split(' '), result.split(' '))"
   ]
  },
  {
   "cell_type": "code",
   "execution_count": 101,
   "metadata": {},
   "outputs": [
    {
     "data": {
      "text/plain": [
       "<tensorflow.python.training.tracking.util.CheckpointLoadStatus at 0x7f50195a3eb8>"
      ]
     },
     "execution_count": 101,
     "metadata": {},
     "output_type": "execute_result"
    }
   ],
   "source": [
    "checkpoint.restore(tf.train.latest_checkpoint(checkpoint_dir))"
   ]
  },
  {
   "cell_type": "code",
   "execution_count": 102,
   "metadata": {},
   "outputs": [
    {
     "data": {
      "text/html": [
       "<div>\n",
       "<style scoped>\n",
       "    .dataframe tbody tr th:only-of-type {\n",
       "        vertical-align: middle;\n",
       "    }\n",
       "\n",
       "    .dataframe tbody tr th {\n",
       "        vertical-align: top;\n",
       "    }\n",
       "\n",
       "    .dataframe thead th {\n",
       "        text-align: right;\n",
       "    }\n",
       "</style>\n",
       "<table border=\"1\" class=\"dataframe\">\n",
       "  <thead>\n",
       "    <tr style=\"text-align: right;\">\n",
       "      <th></th>\n",
       "      <th>firstSentence</th>\n",
       "      <th>secondSentence</th>\n",
       "    </tr>\n",
       "  </thead>\n",
       "  <tbody>\n",
       "    <tr>\n",
       "      <th>40653986</th>\n",
       "      <td>I think it 's a great idea .</td>\n",
       "      <td>Oh , no .</td>\n",
       "    </tr>\n",
       "    <tr>\n",
       "      <th>40653987</th>\n",
       "      <td>I feel fine .</td>\n",
       "      <td>Not bad .</td>\n",
       "    </tr>\n",
       "    <tr>\n",
       "      <th>40653988</th>\n",
       "      <td>He might be dead .</td>\n",
       "      <td>Right .</td>\n",
       "    </tr>\n",
       "    <tr>\n",
       "      <th>40653989</th>\n",
       "      <td>Finished .</td>\n",
       "      <td>I don 't get it .</td>\n",
       "    </tr>\n",
       "    <tr>\n",
       "      <th>40653990</th>\n",
       "      <td>All right , thank you .</td>\n",
       "      <td>Keep moving .</td>\n",
       "    </tr>\n",
       "    <tr>\n",
       "      <th>40653991</th>\n",
       "      <td>I beg of you .</td>\n",
       "      <td>Now ?</td>\n",
       "    </tr>\n",
       "    <tr>\n",
       "      <th>40653992</th>\n",
       "      <td>Go .</td>\n",
       "      <td>sobbing</td>\n",
       "    </tr>\n",
       "    <tr>\n",
       "      <th>40653993</th>\n",
       "      <td>Everything 's fine .</td>\n",
       "      <td>What 's this about ?</td>\n",
       "    </tr>\n",
       "    <tr>\n",
       "      <th>40653994</th>\n",
       "      <td>I did .</td>\n",
       "      <td>RIGHT .</td>\n",
       "    </tr>\n",
       "    <tr>\n",
       "      <th>40653995</th>\n",
       "      <td>Amazing .</td>\n",
       "      <td>Oh , my .</td>\n",
       "    </tr>\n",
       "  </tbody>\n",
       "</table>\n",
       "</div>"
      ],
      "text/plain": [
       "                         firstSentence        secondSentence\n",
       "40653986  I think it 's a great idea .             Oh , no .\n",
       "40653987                 I feel fine .             Not bad .\n",
       "40653988            He might be dead .               Right .\n",
       "40653989                    Finished .     I don 't get it .\n",
       "40653990       All right , thank you .         Keep moving .\n",
       "40653991                I beg of you .                 Now ?\n",
       "40653992                          Go .               sobbing\n",
       "40653993          Everything 's fine .  What 's this about ?\n",
       "40653994                       I did .               RIGHT .\n",
       "40653995                     Amazing .             Oh , my ."
      ]
     },
     "execution_count": 102,
     "metadata": {},
     "output_type": "execute_result"
    }
   ],
   "source": [
    "df.tail(10)"
   ]
  },
  {
   "cell_type": "code",
   "execution_count": 107,
   "metadata": {},
   "outputs": [
    {
     "name": "stdout",
     "output_type": "stream",
     "text": [
      "Input: <start> it ' s morning . <end>\n",
      "Predicted re_parapharse: i am not a plan . <end> \n"
     ]
    },
    {
     "data": {
      "image/png": "[encoded data removed]",
      "text/plain": [
       "<Figure size 720x720 with 1 Axes>"
      ]
     },
     "metadata": {
      "needs_background": "light"
     },
     "output_type": "display_data"
    },
    {
     "name": "stdout",
     "output_type": "stream",
     "text": [
      "Input: <start> you could ' ve . <end>\n",
      "Predicted re_parapharse: i am not a plan . <end> \n"
     ]
    },
    {
     "data": {
      "image/png": "[encoded data removed]",
      "text/plain": [
       "<Figure size 720x720 with 1 Axes>"
      ]
     },
     "metadata": {
      "needs_background": "light"
     },
     "output_type": "display_data"
    },
    {
     "name": "stdout",
     "output_type": "stream",
     "text": [
      "Input: <start> hello , rachel . <end>\n",
      "Predicted re_parapharse: thanks , dexter . <end> \n"
     ]
    },
    {
     "data": {
      "image/png": "[encoded data removed]",
      "text/plain": [
       "<Figure size 720x720 with 1 Axes>"
      ]
     },
     "metadata": {
      "needs_background": "light"
     },
     "output_type": "display_data"
    },
    {
     "name": "stdout",
     "output_type": "stream",
     "text": [
      "Input: <start> you got a family . <end>\n",
      "Predicted re_parapharse: i am a plan . <end> \n"
     ]
    },
    {
     "data": {
      "image/png": "[encoded data removed]",
      "text/plain": [
       "<Figure size 720x720 with 1 Axes>"
      ]
     },
     "metadata": {
      "needs_background": "light"
     },
     "output_type": "display_data"
    },
    {
     "name": "stdout",
     "output_type": "stream",
     "text": [
      "Input: <start> we don ' t have a chance . <end>\n",
      "Predicted re_parapharse: i am not a plan . <end> \n"
     ]
    },
    {
     "data": {
      "image/png": "[encoded data removed]",
      "text/plain": [
       "<Figure size 720x720 with 1 Axes>"
      ]
     },
     "metadata": {
      "needs_background": "light"
     },
     "output_type": "display_data"
    },
    {
     "name": "stdout",
     "output_type": "stream",
     "text": [
      "Input: <start> he asleep ? <end>\n",
      "Predicted re_parapharse: i am not a gentleman . <end> \n"
     ]
    },
    {
     "data": {
      "image/png": "[encoded data removed]",
      "text/plain": [
       "<Figure size 720x720 with 1 Axes>"
      ]
     },
     "metadata": {
      "needs_background": "light"
     },
     "output_type": "display_data"
    }
   ],
   "source": [
    "for x in df.iloc[2000:2010, :].firstSentence.values:\n",
    "    try:\n",
    "        re_parapharse(x)\n",
    "    except Exception as e:\n",
    "        pass"
   ]
  },
  {
   "cell_type": "code",
   "execution_count": null,
   "metadata": {},
   "outputs": [],
   "source": []
  }
 ],
 "metadata": {
  "kernelspec": {
   "display_name": "Python 3",
   "language": "python",
   "name": "python3"
  },
  "language_info": {
   "codemirror_mode": {
    "name": "ipython",
    "version": 3
   },
   "file_extension": ".py",
   "mimetype": "text/x-python",
   "name": "python",
   "nbconvert_exporter": "python",
   "pygments_lexer": "ipython3",
   "version": "3.6.8"
  }
 },
 "nbformat": 4,
 "nbformat_minor": 2
}
